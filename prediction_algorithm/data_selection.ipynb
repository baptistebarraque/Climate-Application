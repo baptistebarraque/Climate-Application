{
 "cells": [
  {
   "cell_type": "code",
   "execution_count": 2,
   "metadata": {},
   "outputs": [],
   "source": [
    "import ee\n",
    "import geemap\n",
    "import pandas as pd\n",
    "from tqdm import tqdm\n",
    "from concurrent.futures import ThreadPoolExecutor, as_completed\n",
    "import time\n",
    "import matplotlib.pyplot as plt\n",
    "import pandas as pd\n",
    "from datetime import datetime, timedelta\n",
    "\n"
   ]
  },
  {
   "cell_type": "code",
   "execution_count": 3,
   "metadata": {},
   "outputs": [
    {
     "data": {
      "text/html": [
       "\n",
       "            <style>\n",
       "                .geemap-dark {\n",
       "                    --jp-widgets-color: white;\n",
       "                    --jp-widgets-label-color: white;\n",
       "                    --jp-ui-font-color1: white;\n",
       "                    --jp-layout-color2: #454545;\n",
       "                    background-color: #383838;\n",
       "                }\n",
       "\n",
       "                .geemap-dark .jupyter-button {\n",
       "                    --jp-layout-color3: #383838;\n",
       "                }\n",
       "\n",
       "                .geemap-colab {\n",
       "                    background-color: var(--colab-primary-surface-color, white);\n",
       "                }\n",
       "\n",
       "                .geemap-colab .jupyter-button {\n",
       "                    --jp-layout-color3: var(--colab-primary-surface-color, white);\n",
       "                }\n",
       "            </style>\n",
       "            "
      ],
      "text/plain": [
       "<IPython.core.display.HTML object>"
      ]
     },
     "metadata": {},
     "output_type": "display_data"
    }
   ],
   "source": [
    "# Initialiser Earth Engine\n",
    "ee.Authenticate()\n",
    "ee.Initialize(project='ee-baptistebarraque')"
   ]
  },
  {
   "cell_type": "code",
   "execution_count": 4,
   "metadata": {},
   "outputs": [
    {
     "data": {
      "text/html": [
       "\n",
       "            <style>\n",
       "                .geemap-dark {\n",
       "                    --jp-widgets-color: white;\n",
       "                    --jp-widgets-label-color: white;\n",
       "                    --jp-ui-font-color1: white;\n",
       "                    --jp-layout-color2: #454545;\n",
       "                    background-color: #383838;\n",
       "                }\n",
       "\n",
       "                .geemap-dark .jupyter-button {\n",
       "                    --jp-layout-color3: #383838;\n",
       "                }\n",
       "\n",
       "                .geemap-colab {\n",
       "                    background-color: var(--colab-primary-surface-color, white);\n",
       "                }\n",
       "\n",
       "                .geemap-colab .jupyter-button {\n",
       "                    --jp-layout-color3: var(--colab-primary-surface-color, white);\n",
       "                }\n",
       "            </style>\n",
       "            "
      ],
      "text/plain": [
       "<IPython.core.display.HTML object>"
      ]
     },
     "metadata": {},
     "output_type": "display_data"
    }
   ],
   "source": [
    "# Définir la zone d'intérêt (rectangle)\n",
    "# Coordonnées des coins du rectangle (longitude, latitude) \n",
    "#Zone entre Perpignan, Carcassonne, Toulouse et Andore la ville\n",
    "coords = [\n",
    "    [2.9006, 42.6875],\n",
    "    [2.3539, 43.2163],\n",
    "    [1.4428, 43.6048],\n",
    "    [1.5218, 42.5063],\n",
    "    [2.9006, 42.6875]  # Fermer le polygone\n",
    "]\n",
    "roi = ee.Geometry.Polygon(coords)\n",
    "\n",
    "# Définir la période\n",
    "start_date = '2023-01-01'\n",
    "end_date = '2023-12-31'\n",
    "centroid=roi.centroid().coordinates().getInfo()\n"
   ]
  },
  {
   "cell_type": "code",
   "execution_count": null,
   "metadata": {},
   "outputs": [
    {
     "data": {
      "text/html": [
       "\n",
       "            <style>\n",
       "                .geemap-dark {\n",
       "                    --jp-widgets-color: white;\n",
       "                    --jp-widgets-label-color: white;\n",
       "                    --jp-ui-font-color1: white;\n",
       "                    --jp-layout-color2: #454545;\n",
       "                    background-color: #383838;\n",
       "                }\n",
       "\n",
       "                .geemap-dark .jupyter-button {\n",
       "                    --jp-layout-color3: #383838;\n",
       "                }\n",
       "\n",
       "                .geemap-colab {\n",
       "                    background-color: var(--colab-primary-surface-color, white);\n",
       "                }\n",
       "\n",
       "                .geemap-colab .jupyter-button {\n",
       "                    --jp-layout-color3: var(--colab-primary-surface-color, white);\n",
       "                }\n",
       "            </style>\n",
       "            "
      ],
      "text/plain": [
       "<IPython.core.display.HTML object>"
      ]
     },
     "metadata": {},
     "output_type": "display_data"
    }
   ],
   "source": [
    "##Cette case n'est pas utilisée ###\n",
    "\n",
    "# Charger les collections\n",
    "temperature = ee.ImageCollection('ECMWF/ERA5_LAND/DAILY_AGGR') \\\n",
    "    .filterDate(start_date, end_date) \\\n",
    "    .select('soil_temperature_level_1')\n",
    "\n",
    "precipitation = ee.ImageCollection('ECMWF/ERA5_LAND/DAILY_AGGR') \\\n",
    "    .filterDate(start_date, end_date) \\\n",
    "    .select('total_precipitation_max')\n",
    "\n",
    "vegetation = ee.ImageCollection('MODIS/061/MOD13A1') \\\n",
    "    .filterDate(start_date, end_date) \\\n",
    "    .select('NDVI')\n",
    "\n",
    "LAI_HIGH = ee.ImageCollection('MODIS/061/MOD15A2H') \\\n",
    "    .filterDate(start_date, end_date) \\\n",
    "    .select('Lai_500m')\n",
    "\n",
    "# ALBEDO = ee.ImageCollection('MODIS/006/MCD43A3') \\\n",
    "#     .filterDate(start_date, end_date) \\\n",
    "#     .select('Albedo_BSA_shortwave')\n",
    "\n",
    "HUMIDITY = ee.ImageCollection('NASA/GLDAS/V022/CLSM/G025/DA1D').filterDate(start_date, end_date).select('AvgSurfT_tavg')\n"
   ]
  },
  {
   "cell_type": "code",
   "execution_count": 6,
   "metadata": {},
   "outputs": [
    {
     "data": {
      "text/html": [
       "\n",
       "            <style>\n",
       "                .geemap-dark {\n",
       "                    --jp-widgets-color: white;\n",
       "                    --jp-widgets-label-color: white;\n",
       "                    --jp-ui-font-color1: white;\n",
       "                    --jp-layout-color2: #454545;\n",
       "                    background-color: #383838;\n",
       "                }\n",
       "\n",
       "                .geemap-dark .jupyter-button {\n",
       "                    --jp-layout-color3: #383838;\n",
       "                }\n",
       "\n",
       "                .geemap-colab {\n",
       "                    background-color: var(--colab-primary-surface-color, white);\n",
       "                }\n",
       "\n",
       "                .geemap-colab .jupyter-button {\n",
       "                    --jp-layout-color3: var(--colab-primary-surface-color, white);\n",
       "                }\n",
       "            </style>\n",
       "            "
      ],
      "text/plain": [
       "<IPython.core.display.HTML object>"
      ]
     },
     "metadata": {},
     "output_type": "display_data"
    }
   ],
   "source": [
    "collection_daily_aggr=ee.ImageCollection('ECMWF/ERA5_LAND/DAILY_AGGR')\n",
    "collection_modis=ee.ImageCollection('MODIS/061/MOD13A1')\n",
    "collection_humidity=ee.ImageCollection('NASA/GLDAS/V022/CLSM/G025/DA1D')"
   ]
  },
  {
   "cell_type": "code",
   "execution_count": null,
   "metadata": {},
   "outputs": [
    {
     "data": {
      "text/html": [
       "\n",
       "            <style>\n",
       "                .geemap-dark {\n",
       "                    --jp-widgets-color: white;\n",
       "                    --jp-widgets-label-color: white;\n",
       "                    --jp-ui-font-color1: white;\n",
       "                    --jp-layout-color2: #454545;\n",
       "                    background-color: #383838;\n",
       "                }\n",
       "\n",
       "                .geemap-dark .jupyter-button {\n",
       "                    --jp-layout-color3: #383838;\n",
       "                }\n",
       "\n",
       "                .geemap-colab {\n",
       "                    background-color: var(--colab-primary-surface-color, white);\n",
       "                }\n",
       "\n",
       "                .geemap-colab .jupyter-button {\n",
       "                    --jp-layout-color3: var(--colab-primary-surface-color, white);\n",
       "                }\n",
       "            </style>\n",
       "            "
      ],
      "text/plain": [
       "<IPython.core.display.HTML object>"
      ]
     },
     "metadata": {},
     "output_type": "display_data"
    },
    {
     "name": "stdout",
     "output_type": "stream",
     "text": [
      "0.000320738553909905\n"
     ]
    }
   ],
   "source": [
    "# Case de test\n",
    "\n",
    "date=ee.Date('2005-01-01')\n",
    "point_geom=ee.Geometry.Point(centroid)\n",
    "precip=precipitation = ee.ImageCollection('ECMWF/ERA5_LAND/DAILY_AGGR').filterDate(date, date.advance(1, 'day')).select('total_precipitation_sum').mean() \\\n",
    "\n",
    "print(precip.reduceRegion(\n",
    "             reducer=ee.Reducer.mean(),\n",
    "             geometry=point_geom,\n",
    "             scale=500\n",
    "         ).get(\"total_precipitation_sum\").getInfo())"
   ]
  },
  {
   "cell_type": "code",
   "execution_count": null,
   "metadata": {},
   "outputs": [
    {
     "data": {
      "text/html": [
       "\n",
       "            <style>\n",
       "                .geemap-dark {\n",
       "                    --jp-widgets-color: white;\n",
       "                    --jp-widgets-label-color: white;\n",
       "                    --jp-ui-font-color1: white;\n",
       "                    --jp-layout-color2: #454545;\n",
       "                    background-color: #383838;\n",
       "                }\n",
       "\n",
       "                .geemap-dark .jupyter-button {\n",
       "                    --jp-layout-color3: #383838;\n",
       "                }\n",
       "\n",
       "                .geemap-colab {\n",
       "                    background-color: var(--colab-primary-surface-color, white);\n",
       "                }\n",
       "\n",
       "                .geemap-colab .jupyter-button {\n",
       "                    --jp-layout-color3: var(--colab-primary-surface-color, white);\n",
       "                }\n",
       "            </style>\n",
       "            "
      ],
      "text/plain": [
       "<IPython.core.display.HTML object>"
      ]
     },
     "metadata": {},
     "output_type": "display_data"
    }
   ],
   "source": [
    "### Fonction non utilisée ###\n",
    "\n",
    "def get_last_available_value(dataset, point_geom, band, default=None):\n",
    "    \"\"\" Récupère la dernière valeur disponible pour un point donné et une bande spécifique \"\"\"\n",
    "    try:\n",
    "        last_value = dataset.sort('system:time_start', False) \\\n",
    "            .filterBounds(point_geom) \\\n",
    "            .limit(1) \\\n",
    "            .select(band) \\\n",
    "            .mean() \\\n",
    "            .reduceRegion(\n",
    "                reducer=ee.Reducer.mean(),\n",
    "                geometry=point_geom,\n",
    "                scale=1000\n",
    "            ).get(band).getInfo()\n",
    "        return last_value\n",
    "    except Exception:\n",
    "        return default  # Retourne une valeur par défaut si aucune donnée n'est trouvée"
   ]
  },
  {
   "cell_type": "code",
   "execution_count": null,
   "metadata": {},
   "outputs": [
    {
     "data": {
      "text/html": [
       "\n",
       "            <style>\n",
       "                .geemap-dark {\n",
       "                    --jp-widgets-color: white;\n",
       "                    --jp-widgets-label-color: white;\n",
       "                    --jp-ui-font-color1: white;\n",
       "                    --jp-layout-color2: #454545;\n",
       "                    background-color: #383838;\n",
       "                }\n",
       "\n",
       "                .geemap-dark .jupyter-button {\n",
       "                    --jp-layout-color3: #383838;\n",
       "                }\n",
       "\n",
       "                .geemap-colab {\n",
       "                    background-color: var(--colab-primary-surface-color, white);\n",
       "                }\n",
       "\n",
       "                .geemap-colab .jupyter-button {\n",
       "                    --jp-layout-color3: var(--colab-primary-surface-color, white);\n",
       "                }\n",
       "            </style>\n",
       "            "
      ],
      "text/plain": [
       "<IPython.core.display.HTML object>"
      ]
     },
     "metadata": {},
     "output_type": "display_data"
    }
   ],
   "source": [
    "### Fonction non-utilisée\n",
    "\n",
    "\n",
    "def get_average_value_around_point(dataset, point_geom, band, radius_km=5, default=None):\n",
    "    \"\"\"\n",
    "    Récupère la moyenne des valeurs d'un paramètre dans un rayon donné autour d'un point.\n",
    "    \n",
    "    :param dataset: Collection Earth Engine\n",
    "    :param point_geom: Point central (ee.Geometry.Point)\n",
    "    :param band: Nom de la bande à récupérer\n",
    "    :param radius_km: Rayon en km autour du point\n",
    "    :param default: Valeur par défaut si aucune donnée disponible\n",
    "    :return: Moyenne des valeurs dans la zone ou la dernière valeur connue\n",
    "    \"\"\"\n",
    "    try:\n",
    "        buffer_zone = point_geom.buffer(radius_km * 1000)  # Création de la zone buffer (mètres)\n",
    "        mean_value = dataset.filterBounds(buffer_zone) \\\n",
    "            .select(band) \\\n",
    "            .mean() \\\n",
    "            .reduceRegion(\n",
    "                reducer=ee.Reducer.mean(),\n",
    "                geometry=buffer_zone,\n",
    "                scale=1000\n",
    "            ).get(band).getInfo()\n",
    "        \n",
    "        if mean_value is None:  # Vérifie si aucune valeur valide n'a été trouvée\n",
    "            raise ValueError(\"No data found in buffer zone\")\n",
    "        \n",
    "        return mean_value\n",
    "\n",
    "    except Exception:\n",
    "        return get_last_available_value(dataset, point_geom, band, default)\n"
   ]
  },
  {
   "cell_type": "code",
   "execution_count": 10,
   "metadata": {},
   "outputs": [
    {
     "data": {
      "text/html": [
       "\n",
       "            <style>\n",
       "                .geemap-dark {\n",
       "                    --jp-widgets-color: white;\n",
       "                    --jp-widgets-label-color: white;\n",
       "                    --jp-ui-font-color1: white;\n",
       "                    --jp-layout-color2: #454545;\n",
       "                    background-color: #383838;\n",
       "                }\n",
       "\n",
       "                .geemap-dark .jupyter-button {\n",
       "                    --jp-layout-color3: #383838;\n",
       "                }\n",
       "\n",
       "                .geemap-colab {\n",
       "                    background-color: var(--colab-primary-surface-color, white);\n",
       "                }\n",
       "\n",
       "                .geemap-colab .jupyter-button {\n",
       "                    --jp-layout-color3: var(--colab-primary-surface-color, white);\n",
       "                }\n",
       "            </style>\n",
       "            "
      ],
      "text/plain": [
       "<IPython.core.display.HTML object>"
      ]
     },
     "metadata": {},
     "output_type": "display_data"
    }
   ],
   "source": [
    "#Deuxième version de la fonction extract_data avec d'autres bases de données pour certains paramètres\n",
    "\n",
    "def extract_data(date, point):\n",
    "    date = ee.Date(date)\n",
    "    lon, lat = point\n",
    "    point_geom = ee.Geometry.Point([lon, lat])\n",
    "\n",
    "    # Sélectionnez la bande appropriée pour la température\n",
    "    temp = collection_daily_aggr \\\n",
    "        .filterDate(date, date.advance(1, 'day')) \\\n",
    "        .select('soil_temperature_level_1') \\\n",
    "        .mean()\n",
    "\n",
    "    # Sélectionnez la bande appropriée pour la précipitation\n",
    "    precip = collection_daily_aggr \\\n",
    "        .filterDate(date, date.advance(1, 'day')) \\\n",
    "        .select('total_precipitation_max') \\\n",
    "        .mean()\n",
    "\n",
    "    # Sélectionnez la bande appropriée pour le NDVI\n",
    "    ndvi = collection_modis \\\n",
    "        .filterDate(date, date.advance(1, 'month')) \\\n",
    "        .select('NDVI') \\\n",
    "        .mean()\n",
    "\n",
    "    # Sélectionnez la bande appropriée pour le LAI\n",
    " \n",
    "\n",
    "    lai_high = collection_daily_aggr.filterDate(date, date.advance(1, 'week')) \\\n",
    "        .select('leaf_area_index_high_vegetation_max') \\\n",
    "        .mean()\n",
    "\n",
    "    lai_low= collection_daily_aggr.filterDate(date, date.advance(1, 'week')) \\\n",
    "        .select('leaf_area_index_low_vegetation_max') \\\n",
    "        .mean()\n",
    "\n",
    "\n",
    "\n",
    "    # Sélectionnez la bande appropriée pour l'albédo\n",
    "    albedo = collection_daily_aggr.filterDate(date, date.advance(1, 'week')) \\\n",
    "            .select('forecast_albedo_max') \\\n",
    "            .mean()\n",
    "    \n",
    "\n",
    "\n",
    "    humidity=collection_humidity.filterDate(date, date.advance(1, 'week')).select('SoilMoist_S_tavg').mean()\n",
    "    \n",
    "\n",
    "    values = {\n",
    "        'date': date.format('YYYY-MM-dd').getInfo(),\n",
    "        'longitude': lon,\n",
    "        'latitude': lat,\n",
    "        \n",
    "        'temperature': temp.reduceRegion(\n",
    "            reducer=ee.Reducer.mean(),\n",
    "            geometry=point_geom,\n",
    "            scale=1000\n",
    "        ).get('soil_temperature_level_1').getInfo(),\n",
    "        'precipitation': precip.reduceRegion(\n",
    "            reducer=ee.Reducer.mean(),\n",
    "            geometry=point_geom,\n",
    "            scale=1000\n",
    "        ).get('total_precipitation_max').getInfo(),\n",
    "        'ndvi': ndvi.reduceRegion(\n",
    "            reducer=ee.Reducer.mean(),\n",
    "            geometry=point_geom,\n",
    "            scale=1000\n",
    "        ).get('NDVI').getInfo(),\n",
    "        'lai_high': lai_high.reduceRegion(\n",
    "            reducer=ee.Reducer.mean(),\n",
    "            geometry=point_geom,\n",
    "            scale=5000\n",
    "        ).get('leaf_area_index_high_vegetation_max').getInfo(),\n",
    "        'lai_low': lai_low.reduceRegion(\n",
    "            reducer=ee.Reducer.mean(),\n",
    "            geometry=point_geom,\n",
    "            scale=5000\n",
    "        ).get('leaf_area_index_low_vegetation_max').getInfo(),\n",
    "        'albedo': albedo.reduceRegion(\n",
    "            reducer=ee.Reducer.mean(),\n",
    "            geometry=point_geom,\n",
    "            scale=5000\n",
    "        ).get('forecast_albedo_max').getInfo(),\n",
    "        'humidity':humidity.reduceRegion(\n",
    "            reducer=ee.Reducer.mean(),\n",
    "            geometry=point_geom,\n",
    "            scale=5000\n",
    "        ).get('SoilMoist_S_tavg').getInfo(),\n",
    "\n",
    "    }\n",
    "\n",
    "    return values\n",
    "\n"
   ]
  },
  {
   "cell_type": "code",
   "execution_count": 11,
   "metadata": {},
   "outputs": [
    {
     "data": {
      "text/html": [
       "\n",
       "            <style>\n",
       "                .geemap-dark {\n",
       "                    --jp-widgets-color: white;\n",
       "                    --jp-widgets-label-color: white;\n",
       "                    --jp-ui-font-color1: white;\n",
       "                    --jp-layout-color2: #454545;\n",
       "                    background-color: #383838;\n",
       "                }\n",
       "\n",
       "                .geemap-dark .jupyter-button {\n",
       "                    --jp-layout-color3: #383838;\n",
       "                }\n",
       "\n",
       "                .geemap-colab {\n",
       "                    background-color: var(--colab-primary-surface-color, white);\n",
       "                }\n",
       "\n",
       "                .geemap-colab .jupyter-button {\n",
       "                    --jp-layout-color3: var(--colab-primary-surface-color, white);\n",
       "                }\n",
       "            </style>\n",
       "            "
      ],
      "text/plain": [
       "<IPython.core.display.HTML object>"
      ]
     },
     "metadata": {},
     "output_type": "display_data"
    },
    {
     "data": {
      "text/plain": [
       "{'date': '2023-01-04',\n",
       " 'longitude': 7,\n",
       " 'latitude': 48.8566,\n",
       " 'temperature': 280.94485092163086,\n",
       " 'precipitation': 0.0007568016648242804,\n",
       " 'ndvi': 4692,\n",
       " 'lai_high': 3.8059605189732144,\n",
       " 'lai_low': 1.5921630859375,\n",
       " 'albedo': 0.14088480600288936,\n",
       " 'humidity': 6.240880966186523}"
      ]
     },
     "execution_count": 11,
     "metadata": {},
     "output_type": "execute_result"
    }
   ],
   "source": [
    "extract_data('2023-01-04',(7, 48.8566))"
   ]
  },
  {
   "cell_type": "code",
   "execution_count": null,
   "metadata": {},
   "outputs": [
    {
     "data": {
      "text/html": [
       "\n",
       "            <style>\n",
       "                .geemap-dark {\n",
       "                    --jp-widgets-color: white;\n",
       "                    --jp-widgets-label-color: white;\n",
       "                    --jp-ui-font-color1: white;\n",
       "                    --jp-layout-color2: #454545;\n",
       "                    background-color: #383838;\n",
       "                }\n",
       "\n",
       "                .geemap-dark .jupyter-button {\n",
       "                    --jp-layout-color3: #383838;\n",
       "                }\n",
       "\n",
       "                .geemap-colab {\n",
       "                    background-color: var(--colab-primary-surface-color, white);\n",
       "                }\n",
       "\n",
       "                .geemap-colab .jupyter-button {\n",
       "                    --jp-layout-color3: var(--colab-primary-surface-color, white);\n",
       "                }\n",
       "            </style>\n",
       "            "
      ],
      "text/plain": [
       "<IPython.core.display.HTML object>"
      ]
     },
     "metadata": {},
     "output_type": "display_data"
    }
   ],
   "source": [
    "### Fonction qui n'est plus utilisée\n",
    "\n",
    "\n",
    "def is_rainfall_event(date, point, precipitation_threshold=10):\n",
    "    \"\"\"\n",
    "    Détermine si une date donnée correspond à un épisode pluvieux.\n",
    "\n",
    "    :param date: Date à vérifier (format 'YYYY-MM-DD').\n",
    "    :param point: Coordonnées (longitude, latitude) du point d'intérêt.\n",
    "    :param precipitation_threshold: Seuil de précipitation pour définir un épisode pluvieux (en mm).\n",
    "    :return: True si c'est un épisode pluvieux, False sinon.\n",
    "    \"\"\"\n",
    "    date = ee.Date(date)\n",
    "    lon, lat = point\n",
    "    point_geom = ee.Geometry.Point([lon, lat])\n",
    "\n",
    "    # Charger les données de précipitation pour la date spécifiée\n",
    "    precipitation = ee.ImageCollection('ECMWF/ERA5_LAND/DAILY_AGGR') \\\n",
    "        .filterDate(date, date.advance(1, 'day')) \\\n",
    "        .select('total_precipitation_max')\n",
    "\n",
    "    # Calculer la précipitation moyenne pour le point donné\n",
    "    precip_mean = precipitation.mean().reduceRegion(\n",
    "        reducer=ee.Reducer.mean(),\n",
    "        geometry=point_geom,\n",
    "        scale=1000\n",
    "    ).get('total_precipitation_max').getInfo()\n",
    "\n",
    "    # Vérifier si la précipitation dépasse le seuil\n",
    "    if precip_mean is not None and precip_mean >= precipitation_threshold:\n",
    "        return True\n",
    "    return False"
   ]
  },
  {
   "cell_type": "code",
   "execution_count": 28,
   "metadata": {},
   "outputs": [
    {
     "data": {
      "text/html": [
       "\n",
       "            <style>\n",
       "                .geemap-dark {\n",
       "                    --jp-widgets-color: white;\n",
       "                    --jp-widgets-label-color: white;\n",
       "                    --jp-ui-font-color1: white;\n",
       "                    --jp-layout-color2: #454545;\n",
       "                    background-color: #383838;\n",
       "                }\n",
       "\n",
       "                .geemap-dark .jupyter-button {\n",
       "                    --jp-layout-color3: #383838;\n",
       "                }\n",
       "\n",
       "                .geemap-colab {\n",
       "                    background-color: var(--colab-primary-surface-color, white);\n",
       "                }\n",
       "\n",
       "                .geemap-colab .jupyter-button {\n",
       "                    --jp-layout-color3: var(--colab-primary-surface-color, white);\n",
       "                }\n",
       "            </style>\n",
       "            "
      ],
      "text/plain": [
       "<IPython.core.display.HTML object>"
      ]
     },
     "metadata": {},
     "output_type": "display_data"
    }
   ],
   "source": [
    "import ee\n",
    "from concurrent.futures import ThreadPoolExecutor, as_completed\n",
    "from tqdm import tqdm\n",
    "\n",
    "def get_daily_precipitation(start_date, end_date, point):\n",
    "    \"\"\"\n",
    "    Renvoie un dictionnaire avec les dates comme clés et les niveaux de précipitation comme valeurs pour une région d'intérêt.\n",
    "\n",
    "    :param start_date: Date de début (format 'YYYY-MM-DD').\n",
    "    :param end_date: Date de fin (format 'YYYY-MM-DD').\n",
    "    :param roi: Géométrie de la région d'intérêt (ee.Geometry).\n",
    "    :return: Dictionnaire avec les dates comme clés et les niveaux de précipitation comme valeurs.\n",
    "    \"\"\"\n",
    "    start_date = ee.Date(start_date)\n",
    "    end_date = ee.Date(end_date)\n",
    "    lon, lat = point\n",
    "    point_geom = ee.Geometry.Point([lon, lat])\n",
    "\n",
    "    # Charger les données de précipitation pour la période spécifiée\n",
    "    precipitation_collection = ee.ImageCollection('ECMWF/ERA5_LAND/DAILY_AGGR') \\\n",
    "        .filterDate(start_date, end_date) \\\n",
    "        .select('total_precipitation_max')\n",
    "\n",
    "    # Dictionnaire pour stocker les dates et les niveaux de précipitation\n",
    "    daily_precipitation = {}\n",
    "\n",
    "    # Fonction pour calculer la précipitation moyenne pour une image\n",
    "    def calculate_precipitation(image):\n",
    "        date = image.date().format('YYYY-MM-dd').getInfo()\n",
    "        precip_mean = image.reduceRegion(\n",
    "            reducer=ee.Reducer.mean(),\n",
    "            geometry=point_geom,\n",
    "            scale=1000\n",
    "        ).get('total_precipitation_max').getInfo()\n",
    "        return date, precip_mean\n",
    "\n",
    "    # Utiliser ThreadPoolExecutor pour paralléliser les appels à getInfo()\n",
    "    date_range = precipitation_collection.toList(precipitation_collection.size().getInfo())\n",
    "    with ThreadPoolExecutor() as executor:\n",
    "        futures = [executor.submit(calculate_precipitation, ee.Image(date_range.get(i)))\n",
    "                   for i in range(date_range.size().getInfo())]\n",
    "\n",
    "        for future in tqdm(as_completed(futures), total=len(futures), desc=\"Processing days\"):\n",
    "            date, precip_mean = future.result()\n",
    "            daily_precipitation[date] = precip_mean if precip_mean is not None else 0\n",
    "\n",
    "    return daily_precipitation\n"
   ]
  },
  {
   "cell_type": "code",
   "execution_count": 30,
   "metadata": {},
   "outputs": [
    {
     "data": {
      "text/html": [
       "\n",
       "            <style>\n",
       "                .geemap-dark {\n",
       "                    --jp-widgets-color: white;\n",
       "                    --jp-widgets-label-color: white;\n",
       "                    --jp-ui-font-color1: white;\n",
       "                    --jp-layout-color2: #454545;\n",
       "                    background-color: #383838;\n",
       "                }\n",
       "\n",
       "                .geemap-dark .jupyter-button {\n",
       "                    --jp-layout-color3: #383838;\n",
       "                }\n",
       "\n",
       "                .geemap-colab {\n",
       "                    background-color: var(--colab-primary-surface-color, white);\n",
       "                }\n",
       "\n",
       "                .geemap-colab .jupyter-button {\n",
       "                    --jp-layout-color3: var(--colab-primary-surface-color, white);\n",
       "                }\n",
       "            </style>\n",
       "            "
      ],
      "text/plain": [
       "<IPython.core.display.HTML object>"
      ]
     },
     "metadata": {},
     "output_type": "display_data"
    },
    {
     "name": "stderr",
     "output_type": "stream",
     "text": [
      "Processing days: 100%|██████████| 364/364 [00:35<00:00, 10.21it/s]"
     ]
    },
    {
     "name": "stdout",
     "output_type": "stream",
     "text": [
      "{'2023-01-01': 8.52346317969932e-07, '2023-01-02': 0.00042147934436798096, '2023-01-06': 3.874301910400391e-06, '2023-01-05': 3.260672082205929e-05, '2023-01-07': 8.583068797918258e-07, '2023-01-04': 1.430511474609375e-06, '2023-01-14': 4.567205905914307e-06, '2023-01-16': 0.0007078879311848141, '2023-01-03': 0.00032547861337661743, '2023-01-08': 0.00102996826171875, '2023-01-12': 0, '2023-01-10': 3.331899642944336e-05, '2023-01-09': 0.0007187426090240479, '2023-01-15': 0.0012422576546669006, '2023-01-11': 0.0005154982209205627, '2023-01-17': 0.0010475963354110718, '2023-01-13': 0.00028874278058310665, '2023-01-18': 0.0004909932613372803, '2023-01-25': 8.809566497802734e-05, '2023-01-23': 0.0001085624098777771, '2023-01-20': 0.0015483640536899657, '2023-01-26': 0.0001308917999267578, '2023-01-29': 5.11854887008667e-05, '2023-01-21': 0.0010282397270202637, '2023-01-19': 0.002363055944442749, '2023-01-22': 0.00017845630645751953, '2023-01-27': 0.0003247439860274426, '2023-01-24': 7.184594869613647e-05, '2023-02-01': 4.1301548378669395e-05, '2023-02-02': 9.26479697227478e-06, '2023-01-28': 0.000192299485206604, '2023-01-30': 1.2965500349793047e-05, '2023-01-31': 1.3709068298339844e-06, '2023-02-04': 0, '2023-02-06': 0.00016945600509643555, '2023-02-08': 0.00015633702277639827, '2023-02-03': 0, '2023-02-07': 0.002252452075481415, '2023-02-05': 5.0127506256103516e-05, '2023-02-10': 8.597968985668558e-07, '2023-02-14': 8.195638656616211e-07, '2023-02-16': 9.43988561630249e-06, '2023-02-13': 0, '2023-02-17': 0, '2023-02-09': 2.327561378479004e-05, '2023-02-11': 4.276633376321115e-07, '2023-02-21': 0.00043591856956481934, '2023-02-12': 0, '2023-02-19': 8.680066230226657e-07, '2023-02-15': 6.429851055145264e-06, '2023-02-18': 8.523464885001886e-07, '2023-02-25': 0.0001818239688873291, '2023-02-22': 0.0007754713296890259, '2023-02-24': 0.0009576417505741119, '2023-02-20': 0, '2023-02-23': 0.00142669677734375, '2023-02-28': 6.607174873352051e-05, '2023-02-27': 0.00022169947624206543, '2023-02-26': 0.0003397315740585327, '2023-03-05': 4.351138045421976e-07, '2023-03-02': 0.00013546645641326904, '2023-03-03': 2.571195363998413e-05, '2023-03-04': 4.641711711883545e-06, '2023-03-07': 0.0008575320243835449, '2023-03-12': 0.0004605427384376526, '2023-03-01': 1.0598450899124146e-06, '2023-03-10': 0.00010427087545394897, '2023-03-06': 1.8656252791515726e-06, '2023-03-15': 0.00014188885688781738, '2023-03-09': 0.002462610602378845, '2023-03-13': 0.004349172115325928, '2023-03-14': 0.000379025936126709, '2023-03-08': 0.00025168558556742937, '2023-03-11': 0.0008875727653503418, '2023-03-19': 0.00018168985843658447, '2023-03-20': 6.273388862609863e-05, '2023-03-16': 8.583068797918258e-07, '2023-03-22': 4.3511390046546694e-07, '2023-03-17': 2.5779008865356445e-06, '2023-03-25': 1.547299325466156e-05, '2023-03-26': 0.0007429420948028564, '2023-03-23': 9.648501873016357e-07, '2023-03-21': 0.000260084867477417, '2023-03-28': 7.450580596923828e-07, '2023-03-24': 0.0006507933139801025, '2023-03-18': 0.002395942807197571, '2023-04-01': 0.000699654221534729, '2023-04-04': 3.191828727722168e-05, '2023-03-31': 0.00038655102252960205, '2023-03-29': 8.52346317969932e-07, '2023-04-02': 0.0008508284931281196, '2023-03-30': 3.194063901901245e-05, '2023-03-27': 0.0009769797325134277, '2023-04-07': 4.318186341834007e-07, '2023-04-05': 0, '2023-04-08': 8.624515430710744e-07, '2023-04-13': 0.0008172392845153809, '2023-04-06': 0.00011021643877029419, '2023-04-15': 0.0003218799829483032, '2023-04-03': 0.0005872286856174469, '2023-04-10': 8.52346317969932e-07, '2023-04-09': 8.52346317969932e-07, '2023-04-16': 6.343931278252057e-05, '2023-04-18': 4.317408848919513e-05, '2023-04-11': 4.803389310836792e-05, '2023-04-14': 0.0005997270345687866, '2023-04-19': 0.00018252432346343994, '2023-04-17': 1.6540288747535214e-06, '2023-04-12': 0.0020918995141983032, '2023-04-21': 5.97536563873291e-05, '2023-04-20': 1.284480094909668e-05, '2023-04-25': 0.0005812644958496094, '2023-04-26': 0.0002481788396835327, '2023-04-29': 0.0018411427736282349, '2023-04-30': 0.00152607262134552, '2023-05-01': 0.0011539792813906047, '2023-04-22': 0.0017782747745513916, '2023-05-03': 0, '2023-04-24': 4.760921001434326e-05, '2023-04-27': 0.0005026012659072876, '2023-05-05': 0.0003288388252258301, '2023-04-23': 0.0008258819580078125, '2023-04-28': 0.000506669282913208, '2023-05-02': 0.00010515935719013214, '2023-05-04': 4.781782627105713e-05, '2023-05-06': 0.001167386770248413, '2023-05-13': 0.00093097984790802, '2023-05-15': 0.0008466526354027337, '2023-05-07': 0.0019230004400014877, '2023-05-12': 0.0014022855579582938, '2023-05-14': 0.0006894320249557495, '2023-05-11': 0.0003640800714492798, '2023-05-10': 0.0001851394772529602, '2023-05-09': 0.0017583668231964111, '2023-05-08': 0.0004191230982542038, '2023-05-16': 0.0005255192518234253, '2023-05-18': 0.00014506746083498, '2023-05-19': 0.0004302561283111572, '2023-05-17': 3.68654727935791e-05, '2023-05-23': 0.0019536465406417847, '2023-05-27': 0.0007355660200119019, '2023-05-25': 0.00043167173862457275, '2023-05-21': 0.0004230290651321411, '2023-05-26': 0.00038835704316397823, '2023-06-02': 0.00025161504748894004, '2023-05-28': 0.0011458992958068848, '2023-05-30': 0.0002553015947341919, '2023-06-04': 0.0002371072769165039, '2023-05-31': 0.0015980824828147888, '2023-05-20': 0.0002967566251754761, '2023-05-29': 7.184594869613647e-05, '2023-05-24': 0.001425053182629199, '2023-06-01': 0.0006895512342453003, '2023-06-06': 0.001362726092338562, '2023-06-03': 0.00013219565153121948, '2023-06-07': 0.00015050172805786133, '2023-06-12': 0.0007995605468700262, '2023-06-10': 0.00023297965532265152, '2023-06-08': 0.00033289194107055664, '2023-06-14': 0.0019273944199085236, '2023-06-05': 8.954107761383057e-05, '2023-06-15': 6.413459777832031e-05, '2023-06-13': 0.003368169069290161, '2023-06-09': 0.005223110318183899, '2023-06-16': 8.845485695019306e-07, '2023-06-11': 0.0002724975347518921, '2023-06-17': 3.24249267578125e-05, '2023-06-18': 0.00045120716094970703, '2023-05-22': 0.0020726919174194336, '2023-06-20': 0.00018509477376937866, '2023-06-19': 0.0001745074987411499, '2023-06-27': 2.9385089874267578e-05, '2023-06-24': 8.597968985668558e-07, '2023-06-23': 0.00018690526485443115, '2023-06-25': 8.523464316567697e-07, '2023-06-21': 0.0017053782939910889, '2023-06-28': 8.583068797918258e-07, '2023-06-29': 0.0032220929861068726, '2023-06-30': 0.0013011538866862793, '2023-07-01': 5.123019218444824e-05, '2023-06-22': 0.004707890748875343, '2023-06-26': 5.358793288223751e-05, '2023-07-02': 0.00012649595737457275, '2023-07-06': 0.002126261591911316, '2023-07-03': 1.691281795501709e-05, '2023-07-04': 0.002391993999481201, '2023-07-05': 0.0004327744245529175, '2023-07-10': 0.0003060847520828247, '2023-07-07': 0.0007584840059280396, '2023-07-11': 0.0010519325733184814, '2023-07-12': 0.00024811792383161446, '2023-07-15': 0.0016146600246429443, '2023-07-17': 8.52346317969932e-07, '2023-07-13': 0.0002346038818359375, '2023-07-14': 2.9265880584716797e-05, '2023-07-18': 0.0012747645378112793, '2023-07-16': 6.429851055145264e-06, '2023-07-19': 0.0004809129683849278, '2023-07-09': 0.00014343857765197754, '2023-07-22': 7.252395153045654e-05, '2023-07-25': 0.00015646517276124428, '2023-07-20': 0.00035159289836883545, '2023-07-08': 9.998679161071777e-06, '2023-07-21': 0.00010092556476593018, '2023-07-26': 5.647540092468262e-06, '2023-07-31': 3.874301910400391e-06, '2023-07-24': 0.00023524463176727295, '2023-07-29': 0.003040790557861328, '2023-07-27': 0.00400601327419281, '2023-07-23': 0.00028648972511291504, '2023-07-28': 0.000885695219039917, '2023-08-04': 0.00016179680824279785, '2023-07-30': 0.00014473497867584229, '2023-08-03': 0.00013299286365509033, '2023-08-01': 1.5735626220703125e-05, '2023-08-08': 8.583068797918258e-07, '2023-08-11': 4.261732051702438e-07, '2023-08-02': 0.0013352036476135254, '2023-08-07': 3.6284327507019043e-06, '2023-08-05': 0.0001053735613822937, '2023-08-06': 0.00011242181062698364, '2023-08-12': 0.0003208369016647339, '2023-08-13': 0.0014249980449676514, '2023-08-10': 7.505714893341064e-05, '2023-08-15': 0.0007574260234832764, '2023-08-18': 0, '2023-08-16': 0.00048585236072540283, '2023-08-20': 4.351138045421976e-07, '2023-08-21': 3.229081528388633e-06, '2023-08-17': 5.0902366638183594e-05, '2023-08-22': 0.00014387071132659912, '2023-08-09': 8.583068797918258e-07, '2023-08-14': 0.0002691596746444702, '2023-08-24': 0.00031046867360373653, '2023-08-23': 3.163516527138199e-05, '2023-08-26': 0.0017028748989105225, '2023-08-29': 0.0004232935607433319, '2023-08-28': 0.0012286901473999023, '2023-08-30': 0.00019676238298416138, '2023-08-19': 5.282461643218994e-06, '2023-08-25': 0.00018297135829925537, '2023-09-01': 0.0001520583938194875, '2023-09-03': 4.016160954734005e-05, '2023-08-31': 7.37607479095459e-06, '2023-09-06': 0, '2023-09-02': 0.0006837397813796997, '2023-08-27': 0.0009368825703859329, '2023-09-09': 1.716613667213096e-06, '2023-09-04': 8.583068797918258e-07, '2023-09-08': 0, '2023-09-07': 8.52346317969932e-07, '2023-09-11': 0.0006907433271408081, '2023-09-12': 0.00912080705165863, '2023-09-05': 0, '2023-09-18': 0.0009918957948684692, '2023-09-17': 3.318488597869873e-05, '2023-09-16': 0.00011025369167327881, '2023-09-10': 8.943676948547363e-05, '2023-09-13': 0.0023125549778342247, '2023-09-19': 6.154179573059082e-06, '2023-09-14': 7.328391075134277e-05, '2023-09-15': 0.0011130571365356445, '2023-09-22': 0.0001722872257232666, '2023-09-24': 4.634261131286621e-06, '2023-09-23': 0.000144151970744133, '2023-09-21': 0.002207532525062561, '2023-09-20': 0.0006221607327461243, '2023-09-26': 4.261732051702438e-07, '2023-09-27': 0, '2023-09-29': 2.2798776626586914e-06, '2023-09-28': 0, '2023-09-25': 8.52346317969932e-07, '2023-10-01': 4.410743663640915e-07, '2023-10-03': 9.775161743164062e-05, '2023-10-06': 4.3213367462158203e-07, '2023-10-09': 8.52346317969932e-07, '2023-09-30': 8.583068797918258e-07, '2023-10-02': 1.043081283569336e-07, '2023-10-08': 8.583068833445395e-07, '2023-10-04': 2.9109418392181396e-05, '2023-10-05': 8.702278364580707e-07, '2023-10-10': 8.764665722083009e-07, '2023-10-13': 1.9878149032592773e-05, '2023-10-07': 0, '2023-10-11': 1.3887882232666016e-05, '2023-10-15': 0.00010533258318901062, '2023-10-12': 5.602836608886719e-06, '2023-10-17': 4.99039888381958e-05, '2023-10-16': 7.978081703186035e-05, '2023-10-20': 0.0034595653414726257, '2023-10-26': 0.00562615692615509, '2023-10-14': 0.0013168752193450928, '2023-10-21': 9.391456842422485e-06, '2023-10-19': 0.0014150023459365002, '2023-10-22': 6.109476089477539e-06, '2023-10-27': 0.0007267892360687256, '2023-10-18': 0.001196956634430535, '2023-10-23': 0.0004642754793167114, '2023-10-24': 0.001077502965927124, '2023-10-25': 0.00024193525314331055, '2023-10-29': 3.229081528388633e-06, '2023-11-01': 6.923079490661621e-05, '2023-10-28': 1.033356511470629e-09, '2023-11-02': 0.0026252567768096924, '2023-10-31': 8.52346317969932e-07, '2023-11-03': 0.00034227967262268066, '2023-11-05': 1.1324882507324219e-06, '2023-11-04': 0.000763237476348877, '2023-11-07': 0.0008375309407711029, '2023-11-08': 8.636197890155017e-07, '2023-11-09': 0.0007227659225463867, '2023-10-30': 0.0033623009920233926, '2023-11-10': 0.0011347681283950806, '2023-11-15': 4.500150680541992e-05, '2023-11-06': 0.0007720291614532471, '2023-11-14': 0.00029665231704711914, '2023-11-11': 0.0003971606492996216, '2023-11-13': 8.672475928506174e-07, '2023-11-18': 4.351138045421976e-07, '2023-11-12': 0.00036983564496040344, '2023-11-21': 0.0019331574440002441, '2023-11-20': 0.0008643001316954724, '2023-11-16': 5.449354648590088e-05, '2023-11-17': 8.705258369445801e-05, '2023-11-22': 0.000995740294456482, '2023-11-23': 2.492964267730713e-05, '2023-11-24': 6.16610050201416e-05, '2023-11-19': 8.64807248035504e-07, '2023-11-29': 5.491077899932861e-06, '2023-12-01': 0.0009503662586212158, '2023-11-30': 0.0006151199340820312, '2023-11-25': 0.00031256675720214844, '2023-11-28': 0.000679483637213707, '2023-12-02': 0.00024565309286117554, '2023-12-04': 0.00039780884981155396, '2023-11-27': 0.0010554194450378418, '2023-11-26': 8.672475928506174e-07, '2023-12-06': 4.242360591888428e-05, '2023-12-05': 0.00010573863983154297, '2023-12-08': 0.0020485147833824158, '2023-12-03': 5.841255187988281e-06, '2023-12-15': 0.00021938979625701904, '2023-12-09': 0.0006742030382156372, '2023-12-07': 0.00048623979091644287, '2023-12-13': 0.0016360357403755188, '2023-12-10': 1.2420117855072021e-05, '2023-12-14': 0.0010158941149711609, '2023-12-17': 8.702278364580707e-07, '2023-12-11': 8.597968985668558e-07, '2023-12-16': 4.6193599700927734e-06, '2023-12-21': 0.00035941600799560547, '2023-12-19': 1.617521047592163e-05, '2023-12-23': 9.813904762268066e-05, '2023-12-18': 8.583068797918258e-07, '2023-12-12': 0.00031819939613342285, '2023-12-24': 1.567900170584835e-05, '2023-12-26': 8.672476496940362e-07, '2023-12-25': 3.6209821701049805e-06, '2023-12-20': 0.001005224883556366, '2023-12-28': 1.1220574378967285e-05, '2023-12-30': 0, '2023-12-29': 8.52346317969932e-07, '2023-12-22': 0.00037479400634765625, '2023-12-27': 9.387731552124023e-07}\n"
     ]
    },
    {
     "name": "stderr",
     "output_type": "stream",
     "text": [
      "\n"
     ]
    }
   ],
   "source": [
    "daily_precipitations=get_daily_precipitation(start_date, end_date, centroid)\n",
    "print(daily_precipitations)"
   ]
  },
  {
   "cell_type": "code",
   "execution_count": 15,
   "metadata": {},
   "outputs": [
    {
     "data": {
      "text/html": [
       "\n",
       "            <style>\n",
       "                .geemap-dark {\n",
       "                    --jp-widgets-color: white;\n",
       "                    --jp-widgets-label-color: white;\n",
       "                    --jp-ui-font-color1: white;\n",
       "                    --jp-layout-color2: #454545;\n",
       "                    background-color: #383838;\n",
       "                }\n",
       "\n",
       "                .geemap-dark .jupyter-button {\n",
       "                    --jp-layout-color3: #383838;\n",
       "                }\n",
       "\n",
       "                .geemap-colab {\n",
       "                    background-color: var(--colab-primary-surface-color, white);\n",
       "                }\n",
       "\n",
       "                .geemap-colab .jupyter-button {\n",
       "                    --jp-layout-color3: var(--colab-primary-surface-color, white);\n",
       "                }\n",
       "            </style>\n",
       "            "
      ],
      "text/plain": [
       "<IPython.core.display.HTML object>"
      ]
     },
     "metadata": {},
     "output_type": "display_data"
    },
    {
     "data": {
      "image/png": "[encoded data removed]",
      "text/plain": [
       "<Figure size 1200x600 with 1 Axes>"
      ]
     },
     "metadata": {},
     "output_type": "display_data"
    }
   ],
   "source": [
    "import matplotlib.pyplot as plt\n",
    "import pandas as pd\n",
    "\n",
    "def plot_precipitation_over_time(daily_precipitation):\n",
    "    \"\"\"\n",
    "    Trace l'évolution des précipitations au cours du temps à partir d'un dictionnaire de précipitations quotidiennes.\n",
    "\n",
    "    :param daily_precipitation: Dictionnaire avec les dates comme clés et les niveaux de précipitation comme valeurs.\n",
    "    \"\"\"\n",
    "    # Convertir le dictionnaire en DataFrame\n",
    "    df = pd.DataFrame(list(daily_precipitation.items()), columns=['Date', 'Precipitation'])\n",
    "    df['Date'] = pd.to_datetime(df['Date'])\n",
    "\n",
    "    # Trier le DataFrame par date\n",
    "    df = df.sort_values(by='Date')\n",
    "\n",
    "    # Tracer l'évolution des précipitations\n",
    "    plt.figure(figsize=(12, 6))\n",
    "    plt.plot(df['Date'], df['Precipitation'], marker='o', linestyle='-', color='b')\n",
    "    plt.title('Évolution des Précipitations au Cours du Temps')\n",
    "    plt.xlabel('Date')\n",
    "    plt.ylabel('Précipitation (m)')\n",
    "    plt.grid(True)\n",
    "    plt.xticks(rotation=45)\n",
    "    plt.tight_layout()\n",
    "    plt.show()\n",
    "\n",
    "plot_precipitation_over_time(daily_precipitations)"
   ]
  },
  {
   "cell_type": "code",
   "execution_count": 16,
   "metadata": {},
   "outputs": [
    {
     "data": {
      "text/html": [
       "\n",
       "            <style>\n",
       "                .geemap-dark {\n",
       "                    --jp-widgets-color: white;\n",
       "                    --jp-widgets-label-color: white;\n",
       "                    --jp-ui-font-color1: white;\n",
       "                    --jp-layout-color2: #454545;\n",
       "                    background-color: #383838;\n",
       "                }\n",
       "\n",
       "                .geemap-dark .jupyter-button {\n",
       "                    --jp-layout-color3: #383838;\n",
       "                }\n",
       "\n",
       "                .geemap-colab {\n",
       "                    background-color: var(--colab-primary-surface-color, white);\n",
       "                }\n",
       "\n",
       "                .geemap-colab .jupyter-button {\n",
       "                    --jp-layout-color3: var(--colab-primary-surface-color, white);\n",
       "                }\n",
       "            </style>\n",
       "            "
      ],
      "text/plain": [
       "<IPython.core.display.HTML object>"
      ]
     },
     "metadata": {},
     "output_type": "display_data"
    }
   ],
   "source": [
    "def identify_rainfall_episodes(daily_precipitation, precipitation_threshold=1e-3, secondary_threshold=5e-4):\n",
    "    \"\"\"\n",
    "    Identifie les épisodes pluvieux, leur durée et le total des précipitations à partir d'un dictionnaire de précipitations quotidiennes.\n",
    "\n",
    "    :param daily_precipitation: Dictionnaire avec les dates comme clés et les niveaux de précipitation comme valeurs.\n",
    "    :param precipitation_threshold: Seuil de précipitation pour définir un jour pluvieux (en mm).\n",
    "    :param secondary_threshold: Seuil secondaire pour prolonger un épisode pluvieux (en mm).\n",
    "    :return: Dictionnaire avec les dates de début des épisodes pluvieux, leur durée et le total des précipitations.\n",
    "    \"\"\"\n",
    "    # Liste pour stocker les dates de début des épisodes pluvieux, leur durée et le total des précipitations\n",
    "    rainfall_episodes = {}\n",
    "    current_episode_start = None\n",
    "    current_episode_duration = 0\n",
    "    current_episode_total_precip = 0\n",
    "\n",
    "    # Analyser les résultats pour identifier les épisodes pluvieux\n",
    "    for date, precip_mean in sorted(daily_precipitation.items()):\n",
    "        # Vérifier si la précipitation dépasse le seuil principal\n",
    "        if precip_mean is not None and precip_mean >= precipitation_threshold:\n",
    "            if current_episode_start is None:\n",
    "                current_episode_start = date\n",
    "            current_episode_duration += 1\n",
    "            current_episode_total_precip += precip_mean\n",
    "        # Vérifier si la précipitation est entre le seuil principal et le seuil secondaire\n",
    "        elif precip_mean is not None and precip_mean >= secondary_threshold:\n",
    "            if current_episode_start is not None:\n",
    "                current_episode_duration += 1\n",
    "                current_episode_total_precip += precip_mean\n",
    "        else:\n",
    "            if current_episode_start is not None:\n",
    "                rainfall_episodes[current_episode_start] = {\n",
    "                    'duration': current_episode_duration,\n",
    "                    'total_precipitation': current_episode_total_precip\n",
    "                }\n",
    "                current_episode_start = None\n",
    "                current_episode_duration = 0\n",
    "                current_episode_total_precip = 0\n",
    "\n",
    "    # Ajouter le dernier épisode s'il est encore en cours\n",
    "    if current_episode_start is not None:\n",
    "        rainfall_episodes[current_episode_start] = {\n",
    "            'duration': current_episode_duration,\n",
    "            'total_precipitation': current_episode_total_precip\n",
    "        }\n",
    "\n",
    "    return rainfall_episodes\n"
   ]
  },
  {
   "cell_type": "code",
   "execution_count": 17,
   "metadata": {},
   "outputs": [
    {
     "data": {
      "text/html": [
       "\n",
       "            <style>\n",
       "                .geemap-dark {\n",
       "                    --jp-widgets-color: white;\n",
       "                    --jp-widgets-label-color: white;\n",
       "                    --jp-ui-font-color1: white;\n",
       "                    --jp-layout-color2: #454545;\n",
       "                    background-color: #383838;\n",
       "                }\n",
       "\n",
       "                .geemap-dark .jupyter-button {\n",
       "                    --jp-layout-color3: #383838;\n",
       "                }\n",
       "\n",
       "                .geemap-colab {\n",
       "                    background-color: var(--colab-primary-surface-color, white);\n",
       "                }\n",
       "\n",
       "                .geemap-colab .jupyter-button {\n",
       "                    --jp-layout-color3: var(--colab-primary-surface-color, white);\n",
       "                }\n",
       "            </style>\n",
       "            "
      ],
      "text/plain": [
       "<IPython.core.display.HTML object>"
      ]
     },
     "metadata": {},
     "output_type": "display_data"
    },
    {
     "name": "stdout",
     "output_type": "stream",
     "text": [
      "{'2023-01-17': {'duration': 5, 'total_precipitation': 0.006217564362049131}, '2023-02-07': {'duration': 1, 'total_precipitation': 0.002146566848394031}, '2023-02-23': {'duration': 2, 'total_precipitation': 0.0024594002507349125}, '2023-03-09': {'duration': 1, 'total_precipitation': 0.0019852836539769893}, '2023-03-13': {'duration': 2, 'total_precipitation': 0.004286797013421389}, '2023-03-18': {'duration': 1, 'total_precipitation': 0.0019620554006755113}, '2023-04-12': {'duration': 3, 'total_precipitation': 0.0031241887025936616}, '2023-04-22': {'duration': 2, 'total_precipitation': 0.0027167418403598893}, '2023-04-27': {'duration': 1, 'total_precipitation': 0.0010469675382219989}, '2023-04-29': {'duration': 3, 'total_precipitation': 0.00448492741914523}, '2023-05-06': {'duration': 2, 'total_precipitation': 0.0032523548625733156}, '2023-05-09': {'duration': 1, 'total_precipitation': 0.0022418049296323494}, '2023-05-12': {'duration': 5, 'total_precipitation': 0.004773784212333299}, '2023-05-22': {'duration': 16, 'total_precipitation': 0.01951472683711651}, '2023-06-09': {'duration': 6, 'total_precipitation': 0.013720958344979472}, '2023-06-21': {'duration': 2, 'total_precipitation': 0.005495930997284448}, '2023-06-29': {'duration': 2, 'total_precipitation': 0.0048521052859524655}, '2023-07-04': {'duration': 3, 'total_precipitation': 0.0052601333123188}, '2023-07-11': {'duration': 2, 'total_precipitation': 0.0018392791802936523}, '2023-07-15': {'duration': 1, 'total_precipitation': 0.0011098451779670208}, '2023-07-27': {'duration': 3, 'total_precipitation': 0.007397961792247977}, '2023-08-02': {'duration': 1, 'total_precipitation': 0.0010705252952813993}, '2023-08-13': {'duration': 1, 'total_precipitation': 0.0014755708689818887}, '2023-08-26': {'duration': 3, 'total_precipitation': 0.005841241733601922}, '2023-09-02': {'duration': 1, 'total_precipitation': 0.0010374244820845035}, '2023-09-12': {'duration': 2, 'total_precipitation': 0.008145830601138939}, '2023-09-15': {'duration': 1, 'total_precipitation': 0.0021826894282315377}, '2023-09-21': {'duration': 2, 'total_precipitation': 0.002892032469045794}, '2023-10-14': {'duration': 1, 'total_precipitation': 0.001347602004983571}, '2023-10-19': {'duration': 2, 'total_precipitation': 0.004342467457898626}, '2023-10-26': {'duration': 2, 'total_precipitation': 0.0048325340986164105}, '2023-10-30': {'duration': 1, 'total_precipitation': 0.0024644511202615064}, '2023-11-02': {'duration': 1, 'total_precipitation': 0.0027155833126253936}, '2023-11-21': {'duration': 2, 'total_precipitation': 0.002050739621384962}, '2023-11-27': {'duration': 2, 'total_precipitation': 0.0015995180356837085}, '2023-12-01': {'duration': 1, 'total_precipitation': 0.0011600118154004664}, '2023-12-08': {'duration': 2, 'total_precipitation': 0.00276040895458064}, '2023-12-13': {'duration': 2, 'total_precipitation': 0.0025448513527031595}, '2023-12-20': {'duration': 1, 'total_precipitation': 0.001113743692899917}}\n"
     ]
    }
   ],
   "source": [
    "rainfall_episodes=identify_rainfall_episodes(daily_precipitations)\n",
    "print(rainfall_episodes)"
   ]
  },
  {
   "cell_type": "code",
   "execution_count": 18,
   "metadata": {},
   "outputs": [
    {
     "data": {
      "text/html": [
       "\n",
       "            <style>\n",
       "                .geemap-dark {\n",
       "                    --jp-widgets-color: white;\n",
       "                    --jp-widgets-label-color: white;\n",
       "                    --jp-ui-font-color1: white;\n",
       "                    --jp-layout-color2: #454545;\n",
       "                    background-color: #383838;\n",
       "                }\n",
       "\n",
       "                .geemap-dark .jupyter-button {\n",
       "                    --jp-layout-color3: #383838;\n",
       "                }\n",
       "\n",
       "                .geemap-colab {\n",
       "                    background-color: var(--colab-primary-surface-color, white);\n",
       "                }\n",
       "\n",
       "                .geemap-colab .jupyter-button {\n",
       "                    --jp-layout-color3: var(--colab-primary-surface-color, white);\n",
       "                }\n",
       "            </style>\n",
       "            "
      ],
      "text/plain": [
       "<IPython.core.display.HTML object>"
      ]
     },
     "metadata": {},
     "output_type": "display_data"
    },
    {
     "data": {
      "image/png": "[encoded data removed]",
      "text/plain": [
       "<Figure size 1200x600 with 1 Axes>"
      ]
     },
     "metadata": {},
     "output_type": "display_data"
    }
   ],
   "source": [
    "def plot_rainfall_episodes(rainfall_episodes):\n",
    "    \"\"\"\n",
    "    Trace les épisodes pluvieux sur une ligne de temps.\n",
    "\n",
    "    :param rainfall_episodes: Dictionnaire avec les dates de début des épisodes pluvieux, leur durée et le total des précipitations.\n",
    "    \"\"\"\n",
    "    # Convertir le dictionnaire en DataFrame pour faciliter le traçage\n",
    "    data = []\n",
    "    for start_date, episode_info in rainfall_episodes.items():\n",
    "        duration = episode_info['duration']\n",
    "        total_precip = episode_info['total_precipitation']\n",
    "        for day in range(duration):\n",
    "            data.append({\n",
    "                'Date': pd.to_datetime(start_date) + pd.Timedelta(days=day),\n",
    "                'Precipitation': total_precip / duration  # Répartir la précipitation uniformément sur la durée\n",
    "            })\n",
    "\n",
    "    df = pd.DataFrame(data)\n",
    "\n",
    "    # Tracer les épisodes pluvieux\n",
    "    plt.figure(figsize=(12, 6))\n",
    "    plt.bar(df['Date'], df['Precipitation'], width=1, color='blue', alpha=0.7, label='Épisode pluvieux')\n",
    "    plt.title('Épisodes Pluvieux au Cours du Temps')\n",
    "    plt.xlabel('Date')\n",
    "    plt.ylabel('Précipitation (m)')\n",
    "    plt.grid(True)\n",
    "    plt.xticks(rotation=45)\n",
    "    plt.tight_layout()\n",
    "    plt.legend()\n",
    "    plt.show()\n",
    "\n",
    "\n",
    "plot_rainfall_episodes(rainfall_episodes)\n"
   ]
  },
  {
   "cell_type": "code",
   "execution_count": 19,
   "metadata": {},
   "outputs": [
    {
     "data": {
      "text/html": [
       "\n",
       "            <style>\n",
       "                .geemap-dark {\n",
       "                    --jp-widgets-color: white;\n",
       "                    --jp-widgets-label-color: white;\n",
       "                    --jp-ui-font-color1: white;\n",
       "                    --jp-layout-color2: #454545;\n",
       "                    background-color: #383838;\n",
       "                }\n",
       "\n",
       "                .geemap-dark .jupyter-button {\n",
       "                    --jp-layout-color3: #383838;\n",
       "                }\n",
       "\n",
       "                .geemap-colab {\n",
       "                    background-color: var(--colab-primary-surface-color, white);\n",
       "                }\n",
       "\n",
       "                .geemap-colab .jupyter-button {\n",
       "                    --jp-layout-color3: var(--colab-primary-surface-color, white);\n",
       "                }\n",
       "            </style>\n",
       "            "
      ],
      "text/plain": [
       "<IPython.core.display.HTML object>"
      ]
     },
     "metadata": {},
     "output_type": "display_data"
    },
    {
     "name": "stdout",
     "output_type": "stream",
     "text": [
      "{'2023-01-17': {'duration': 5, 'total_precipitation': 0.006217564362049131}, '2023-02-07': {'duration': 1, 'total_precipitation': 0.002146566848394031}, '2023-02-23': {'duration': 2, 'total_precipitation': 0.0024594002507349125}}\n"
     ]
    }
   ],
   "source": [
    "\n",
    "trois_premieres_cles = list(rainfall_episodes.keys())[:3]\n",
    "truncated_rainfall_episodes = {key: rainfall_episodes[key] for key in trois_premieres_cles}\n",
    "print(truncated_rainfall_episodes)"
   ]
  },
  {
   "cell_type": "code",
   "execution_count": 20,
   "metadata": {},
   "outputs": [
    {
     "data": {
      "text/html": [
       "\n",
       "            <style>\n",
       "                .geemap-dark {\n",
       "                    --jp-widgets-color: white;\n",
       "                    --jp-widgets-label-color: white;\n",
       "                    --jp-ui-font-color1: white;\n",
       "                    --jp-layout-color2: #454545;\n",
       "                    background-color: #383838;\n",
       "                }\n",
       "\n",
       "                .geemap-dark .jupyter-button {\n",
       "                    --jp-layout-color3: #383838;\n",
       "                }\n",
       "\n",
       "                .geemap-colab {\n",
       "                    background-color: var(--colab-primary-surface-color, white);\n",
       "                }\n",
       "\n",
       "                .geemap-colab .jupyter-button {\n",
       "                    --jp-layout-color3: var(--colab-primary-surface-color, white);\n",
       "                }\n",
       "            </style>\n",
       "            "
      ],
      "text/plain": [
       "<IPython.core.display.HTML object>"
      ]
     },
     "metadata": {},
     "output_type": "display_data"
    }
   ],
   "source": [
    "def analyze_rainfall_episodes_parallel(start, rainfall_episodes, centroid):\n",
    "    data_dict = {}\n",
    "    i = 1\n",
    "    \n",
    "    with ThreadPoolExecutor() as executor:\n",
    "        future_to_date = {}\n",
    "\n",
    "        for date_str, episode in rainfall_episodes.items():\n",
    "            index=start[:4]+'_'+str(i)\n",
    "            start_date = datetime.strptime(date_str, '%Y-%m-%d')\n",
    "            end_date = start_date + timedelta(days=episode['duration'] - 1)\n",
    "\n",
    "            # Calculer les dates requises\n",
    "            three_days_before_end = end_date - timedelta(days=3)\n",
    "            one_day_before_end = end_date - timedelta(days=1)\n",
    "            three_days_after_end = end_date + timedelta(days=3)\n",
    "\n",
    "            # Soumettre les tâches pour extraire les données en parallèle\n",
    "            future_to_date[executor.submit(extract_data, three_days_before_end.strftime('%Y-%m-%d'), centroid)] = ('three_days_before_end', index)\n",
    "            future_to_date[executor.submit(extract_data, one_day_before_end.strftime('%Y-%m-%d'), centroid)] = ('one_day_before_end', index)\n",
    "            future_to_date[executor.submit(extract_data, end_date.strftime('%Y-%m-%d'), centroid)] = ('end_date', index)\n",
    "            future_to_date[executor.submit(extract_data, three_days_after_end.strftime('%Y-%m-%d'), centroid)] = ('three_days_after_end', index)\n",
    "\n",
    "            # Ajouter les informations de base pour l'épisode\n",
    "            data_dict[index] = {\n",
    "                'start_date': start_date.strftime('%Y-%m-%d'),\n",
    "                'end_date': end_date.strftime('%Y-%m-%d'),\n",
    "                'duration': episode['duration'],\n",
    "                'total_precipitation': episode['total_precipitation'],\n",
    "                'longitude': centroid[0],\n",
    "                'latitude': centroid[1],\n",
    "                'temperature_3days_before_date': None,\n",
    "                'temperature_1day_before_date': None,\n",
    "                'temperature_end_date': None,\n",
    "                'precipitation_3days_before_date': None,\n",
    "                'precipitation_1day_before_date':None,\n",
    "                'precipitation_end_date': None,\n",
    "                'ndvi_3days_before_date': None,\n",
    "                'ndvi_end_date': None,\n",
    "                'lai_high_3days_before_date': None,\n",
    "                'lai_high_1day_before_date':None,\n",
    "                'lai_high_end_date': None,\n",
    "                'lai_low_3days_before_date': None,\n",
    "                'lai_low_1day_before_date':None,\n",
    "                'lai_low_end_date': None,\n",
    "                'albedo_3days_before_date': None,\n",
    "                'albedo_1day_before_date':None,\n",
    "                'albedo_end_date': None,\n",
    "                'humidity_3days_before_date': None,\n",
    "                'humidity_1day_before_date':None,\n",
    "                'humidity_end_date': None,\n",
    "                'humidity_3days_after_date': None,\n",
    "            }\n",
    "            i+=1\n",
    "\n",
    "        # Récupérer les résultats des tâches avec une barre de progression\n",
    "        for future in tqdm(as_completed(future_to_date), total=len(future_to_date), desc=\"Extracting data\"):\n",
    "            date_type, idx = future_to_date[future]\n",
    "            try:\n",
    "                data = future.result()\n",
    "                if date_type == 'three_days_before_end':\n",
    "                    data_dict[idx]['temperature_3days_before_date'] = data['temperature']\n",
    "                    data_dict[idx]['precipitation_3days_before_date'] = data['precipitation']\n",
    "                    data_dict[idx]['ndvi_3days_before_date'] = data['ndvi']\n",
    "                    data_dict[idx]['lai_high_3days_before_date'] = data['lai_high']\n",
    "                    data_dict[idx]['lai_low_3days_before_date'] = data['lai_low']\n",
    "                    data_dict[idx]['albedo_3days_before_date'] = data['albedo']\n",
    "                    data_dict[idx]['humidity_3days_before_date'] = data['humidity']\n",
    "                elif date_type == 'end_date':\n",
    "                    data_dict[idx]['temperature_end_date'] = data['temperature']\n",
    "                    data_dict[idx]['precipitation_end_date'] = data['precipitation']\n",
    "                    data_dict[idx]['ndvi_end_date'] = data['ndvi']\n",
    "                    data_dict[idx]['lai_high_end_date'] = data['lai_high']\n",
    "                    data_dict[idx]['lai_high_end_date'] = data['lai_high']\n",
    "                    data_dict[idx]['albedo_end_date'] = data['albedo']\n",
    "                    data_dict[idx]['humidity_end_date'] = data['humidity']\n",
    "                elif date_type == 'one_day_before_end':\n",
    "                    data_dict[idx]['temperature_1day_before_date']= data['temperature']\n",
    "                    data_dict[idx]['precipitation_1day_before_date']=data['precipitation']\n",
    "                    data_dict[idx]['ndvi_1day_before_date']=data['ndvi']\n",
    "                    data_dict[idx]['lai_high_1day_before_date']=data['lai_high']\n",
    "                    data_dict[idx]['lai_low_1day_before_date']=data['lai_low']\n",
    "                    data_dict[idx]['albedo_1day_before_date']=data['albedo']\n",
    "                    data_dict[idx]['humidity_1day_before_date']=data['humidity']\n",
    "                elif date_type == 'three_days_after_end':\n",
    "                    data_dict[idx]['humidity_3days_after_date'] = data['humidity']\n",
    "            except Exception as exc:\n",
    "                print(f'Generated an exception: {exc}')\n",
    "\n",
    "    return data_dict"
   ]
  },
  {
   "cell_type": "code",
   "execution_count": 21,
   "metadata": {},
   "outputs": [
    {
     "data": {
      "text/html": [
       "\n",
       "            <style>\n",
       "                .geemap-dark {\n",
       "                    --jp-widgets-color: white;\n",
       "                    --jp-widgets-label-color: white;\n",
       "                    --jp-ui-font-color1: white;\n",
       "                    --jp-layout-color2: #454545;\n",
       "                    background-color: #383838;\n",
       "                }\n",
       "\n",
       "                .geemap-dark .jupyter-button {\n",
       "                    --jp-layout-color3: #383838;\n",
       "                }\n",
       "\n",
       "                .geemap-colab {\n",
       "                    background-color: var(--colab-primary-surface-color, white);\n",
       "                }\n",
       "\n",
       "                .geemap-colab .jupyter-button {\n",
       "                    --jp-layout-color3: var(--colab-primary-surface-color, white);\n",
       "                }\n",
       "            </style>\n",
       "            "
      ],
      "text/plain": [
       "<IPython.core.display.HTML object>"
      ]
     },
     "metadata": {},
     "output_type": "display_data"
    },
    {
     "name": "stderr",
     "output_type": "stream",
     "text": [
      "Extracting data: 100%|██████████| 156/156 [00:24<00:00,  6.29it/s]\n"
     ]
    }
   ],
   "source": [
    "results=analyze_rainfall_episodes_parallel('2023-01-01',rainfall_episodes,centroid)"
   ]
  },
  {
   "cell_type": "code",
   "execution_count": 22,
   "metadata": {},
   "outputs": [
    {
     "data": {
      "text/html": [
       "\n",
       "            <style>\n",
       "                .geemap-dark {\n",
       "                    --jp-widgets-color: white;\n",
       "                    --jp-widgets-label-color: white;\n",
       "                    --jp-ui-font-color1: white;\n",
       "                    --jp-layout-color2: #454545;\n",
       "                    background-color: #383838;\n",
       "                }\n",
       "\n",
       "                .geemap-dark .jupyter-button {\n",
       "                    --jp-layout-color3: #383838;\n",
       "                }\n",
       "\n",
       "                .geemap-colab {\n",
       "                    background-color: var(--colab-primary-surface-color, white);\n",
       "                }\n",
       "\n",
       "                .geemap-colab .jupyter-button {\n",
       "                    --jp-layout-color3: var(--colab-primary-surface-color, white);\n",
       "                }\n",
       "            </style>\n",
       "            "
      ],
      "text/plain": [
       "<IPython.core.display.HTML object>"
      ]
     },
     "metadata": {},
     "output_type": "display_data"
    },
    {
     "name": "stdout",
     "output_type": "stream",
     "text": [
      "{'2023_1': {'start_date': '2023-01-17', 'end_date': '2023-01-21', 'duration': 5, 'total_precipitation': 0.006217564362049131, 'longitude': 1.9974518223711788, 'latitude': 42.96909151699277, 'temperature_3days_before_date': 276.6813735961914, 'temperature_1day_before_date': 275.3591664632161, 'temperature_end_date': 274.13871002197266, 'precipitation_3days_before_date': 0.0004909932613372803, 'precipitation_1day_before_date': 0.0015483640536899657, 'precipitation_end_date': 0.0010282397270202637, 'ndvi_3days_before_date': 5301, 'ndvi_end_date': 5445.5, 'lai_high_3days_before_date': 1.701904296875, 'lai_high_1day_before_date': 1.701904296875, 'lai_high_end_date': 1.701904296875, 'lai_low_3days_before_date': 2.794677734375, 'lai_low_1day_before_date': 2.794677734375, 'lai_low_end_date': None, 'albedo_3days_before_date': 0.3258878306618759, 'albedo_1day_before_date': 0.37470953432577, 'albedo_end_date': 0.37370201466338976, 'humidity_3days_before_date': 4.968364238739014, 'humidity_1day_before_date': 4.89885139465332, 'humidity_end_date': 4.862570285797119, 'humidity_3days_after_date': 4.829153060913086, 'ndvi_1day_before_date': 5445.5}, '2023_2': {'start_date': '2023-02-07', 'end_date': '2023-02-07', 'duration': 1, 'total_precipitation': 0.002146566848394031, 'longitude': 1.9974518223711788, 'latitude': 42.96909151699277, 'temperature_3days_before_date': 275.6588904062907, 'temperature_1day_before_date': 277.58201789855957, 'temperature_end_date': 276.11355845133465, 'precipitation_3days_before_date': 0, 'precipitation_1day_before_date': 0.00016945600509643555, 'precipitation_end_date': 0.002252452075481415, 'ndvi_3days_before_date': 5590, 'ndvi_end_date': 5658.5, 'lai_high_3days_before_date': 1.701904296875, 'lai_high_1day_before_date': 1.701904296875, 'lai_high_end_date': 1.701904296875, 'lai_low_3days_before_date': 2.794677734375, 'lai_low_1day_before_date': 2.794677734375, 'lai_low_end_date': None, 'albedo_3days_before_date': 0.15345049968787602, 'albedo_1day_before_date': 0.1497777955872672, 'albedo_end_date': 0.1491539254784584, 'humidity_3days_before_date': 4.798285007476807, 'humidity_1day_before_date': 4.822474479675293, 'humidity_end_date': 4.808677673339844, 'humidity_3days_after_date': 4.661479949951172, 'ndvi_1day_before_date': 5590}, '2023_3': {'start_date': '2023-02-23', 'end_date': '2023-02-24', 'duration': 2, 'total_precipitation': 0.0024594002507349125, 'longitude': 1.9974518223711788, 'latitude': 42.96909151699277, 'temperature_3days_before_date': 281.7650947570801, 'temperature_1day_before_date': 280.79617500305176, 'temperature_end_date': 279.59178924560547, 'precipitation_3days_before_date': 0.00043591856956481934, 'precipitation_1day_before_date': 0.00142669677734375, 'precipitation_end_date': 0.0009576417505741119, 'ndvi_3days_before_date': 5727, 'ndvi_end_date': 6359.5, 'lai_high_3days_before_date': 1.7990548270089286, 'lai_high_1day_before_date': 1.8206089564732142, 'lai_high_end_date': 1.8313860212053572, 'lai_low_3days_before_date': 2.8108433314732144, 'lai_low_1day_before_date': 2.8144356863839284, 'lai_low_end_date': None, 'albedo_3days_before_date': 0.12907943235976355, 'albedo_1day_before_date': 0.14011936581560544, 'albedo_end_date': 0.1446751207113266, 'humidity_3days_before_date': 4.801373481750488, 'humidity_1day_before_date': 4.823756217956543, 'humidity_end_date': 4.82307243347168, 'humidity_3days_after_date': 4.737362861633301, 'ndvi_1day_before_date': 6359.5}, '2023_4': {'start_date': '2023-03-09', 'end_date': '2023-03-09', 'duration': 1, 'total_precipitation': 0.0019852836539769893, 'longitude': 1.9974518223711788, 'latitude': 42.96909151699277, 'temperature_3days_before_date': 276.93800163269043, 'temperature_1day_before_date': 281.44026883443195, 'temperature_end_date': 283.0870946248372, 'precipitation_3days_before_date': 1.8656252791515726e-06, 'precipitation_1day_before_date': 0.00025168558556742937, 'precipitation_end_date': 0.002462610602378845, 'ndvi_3days_before_date': 6359.5, 'ndvi_end_date': 7010.5, 'lai_high_3days_before_date': 1.9392613002232142, 'lai_high_1day_before_date': 1.9608328683035714, 'lai_high_end_date': 1.9716099330357142, 'lai_low_3days_before_date': 2.8342982700892856, 'lai_low_1day_before_date': 2.8379080636160716, 'lai_low_end_date': None, 'albedo_3days_before_date': 0.12549403895224845, 'albedo_1day_before_date': 0.12463837542704173, 'albedo_end_date': 0.12466255415763174, 'humidity_3days_before_date': 4.765799045562744, 'humidity_1day_before_date': 4.8612165451049805, 'humidity_end_date': 4.880275249481201, 'humidity_3days_after_date': 4.879393577575684, 'ndvi_1day_before_date': 7010.5}, '2023_5': {'start_date': '2023-03-13', 'end_date': '2023-03-14', 'duration': 2, 'total_precipitation': 0.004286797013421389, 'longitude': 1.9974518223711788, 'latitude': 42.96909151699277, 'temperature_3days_before_date': 284.76990000406903, 'temperature_1day_before_date': 284.89146105448407, 'temperature_end_date': 282.709675470988, 'precipitation_3days_before_date': 0.0008875727653503418, 'precipitation_1day_before_date': 0.004349172115325928, 'precipitation_end_date': 0.000379025936126709, 'ndvi_3days_before_date': 7010.5, 'ndvi_end_date': 7010.5, 'lai_high_3days_before_date': 1.9956577845982142, 'lai_high_1day_before_date': 2.0230189732142856, 'lai_high_end_date': 2.037928989955357, 'lai_low_3days_before_date': 2.8435756138392856, 'lai_low_1day_before_date': 2.8478306361607144, 'lai_low_end_date': None, 'albedo_3days_before_date': 0.12515409769756453, 'albedo_1day_before_date': 0.12587110698223114, 'albedo_end_date': 0.1262874071087156, 'humidity_3days_before_date': 4.859936714172363, 'humidity_1day_before_date': 4.881823539733887, 'humidity_end_date': 4.848133563995361, 'humidity_3days_after_date': 4.74005126953125, 'ndvi_1day_before_date': 7010.5}, '2023_6': {'start_date': '2023-03-18', 'end_date': '2023-03-18', 'duration': 1, 'total_precipitation': 0.0019620554006755113, 'longitude': 1.9974518223711788, 'latitude': 42.96909151699277, 'temperature_3days_before_date': 282.3963165283203, 'temperature_1day_before_date': 283.9871934254964, 'temperature_end_date': 283.5678596496582, 'precipitation_3days_before_date': 0.00014188885688781738, 'precipitation_1day_before_date': 2.5779008865356445e-06, 'precipitation_end_date': 0.002395942807197571, 'ndvi_3days_before_date': 7010.5, 'ndvi_end_date': 7010.5, 'lai_high_3days_before_date': 2.0536934988839284, 'lai_high_1day_before_date': 2.086879185267857, 'lai_high_end_date': 2.1034633091517856, 'lai_low_3days_before_date': 2.852451869419643, 'lai_low_1day_before_date': 2.857386997767857, 'lai_low_end_date': None, 'albedo_3days_before_date': 0.12674485359873092, 'albedo_1day_before_date': 0.12773767858743668, 'albedo_end_date': 0.12823409108178957, 'humidity_3days_before_date': 4.787120819091797, 'humidity_1day_before_date': 4.74005126953125, 'humidity_end_date': 4.737670421600342, 'humidity_3days_after_date': 4.6900858879089355, 'ndvi_1day_before_date': 7010.5}, '2023_7': {'start_date': '2023-04-12', 'end_date': '2023-04-14', 'duration': 3, 'total_precipitation': 0.0031241887025936616, 'longitude': 1.9974518223711788, 'latitude': 42.96909151699277, 'temperature_3days_before_date': 286.04626146952313, 'temperature_1day_before_date': 281.84595616658527, 'temperature_end_date': 282.54494794209796, 'precipitation_3days_before_date': 4.803389310836792e-05, 'precipitation_1day_before_date': 0.0008172392845153809, 'precipitation_end_date': 0.0005997270345687866, 'ndvi_3days_before_date': 6586, 'ndvi_end_date': 6586, 'lai_high_3days_before_date': 2.5046212332589284, 'lai_high_1day_before_date': 2.5451485770089284, 'lai_high_end_date': 2.5669991629464284, 'lai_low_3days_before_date': 2.919346400669643, 'lai_low_1day_before_date': 2.925380161830357, 'lai_low_end_date': None, 'albedo_3days_before_date': 0.140255618840456, 'albedo_1day_before_date': 0.1413800104388169, 'albedo_end_date': 0.14196735141532763, 'humidity_3days_before_date': 4.814562797546387, 'humidity_1day_before_date': 4.836202621459961, 'humidity_end_date': 4.787647247314453, 'humidity_3days_after_date': 4.669948101043701, 'ndvi_1day_before_date': 6586}, '2023_8': {'start_date': '2023-04-22', 'end_date': '2023-04-23', 'duration': 2, 'total_precipitation': 0.0027167418403598893, 'longitude': 1.9974518223711788, 'latitude': 42.96909151699277, 'temperature_3days_before_date': 285.8726062774658, 'temperature_1day_before_date': 286.3881956736247, 'temperature_end_date': 285.6322612762451, 'precipitation_3days_before_date': 1.284480094909668e-05, 'precipitation_1day_before_date': 0.0017782747745513916, 'precipitation_end_date': 0.0008258819580078125, 'ndvi_3days_before_date': 6586, 'ndvi_end_date': 6586, 'lai_high_3days_before_date': 2.7096993582589284, 'lai_high_1day_before_date': 2.7576206752232144, 'lai_high_end_date': 2.781581333705357, 'lai_low_3days_before_date': 2.949951171875, 'lai_low_1day_before_date': 2.9571358816964284, 'lai_low_end_date': None, 'albedo_3days_before_date': 0.14570847579411098, 'albedo_1day_before_date': 0.14696514553257398, 'albedo_end_date': 0.1475913700248514, 'humidity_3days_before_date': 4.711702823638916, 'humidity_1day_before_date': 4.728503704071045, 'humidity_end_date': 4.785378456115723, 'humidity_3days_after_date': 4.886612415313721, 'ndvi_1day_before_date': 6586}, '2023_9': {'start_date': '2023-04-27', 'end_date': '2023-04-27', 'duration': 1, 'total_precipitation': 0.0010469675382219989, 'longitude': 1.9974518223711788, 'latitude': 42.96909151699277, 'temperature_3days_before_date': 285.23261578877765, 'temperature_1day_before_date': 286.9383824666341, 'temperature_end_date': 289.279047648112, 'precipitation_3days_before_date': 4.760921001434326e-05, 'precipitation_1day_before_date': 0.0002481788396835327, 'precipitation_end_date': 0.0005026012659072876, 'ndvi_3days_before_date': 5870, 'ndvi_end_date': 6722, 'lai_high_3days_before_date': 2.8055245535714284, 'lai_high_1day_before_date': 2.853428431919643, 'lai_high_end_date': 2.8773716517857144, 'lai_low_3days_before_date': 2.9642857142857144, 'lai_low_1day_before_date': 2.9714529854910716, 'lai_low_end_date': None, 'albedo_3days_before_date': 0.14821763709187508, 'albedo_1day_before_date': 0.14947030959384783, 'albedo_end_date': 0.15009590504424913, 'humidity_3days_before_date': 4.845134258270264, 'humidity_1day_before_date': 4.886612415313721, 'humidity_end_date': 4.8535847663879395, 'humidity_3days_after_date': 4.773486614227295, 'ndvi_1day_before_date': 6722}, '2023_10': {'start_date': '2023-04-29', 'end_date': '2023-05-01', 'duration': 3, 'total_precipitation': 0.00448492741914523, 'longitude': 1.9974518223711788, 'latitude': 42.96909151699277, 'temperature_3days_before_date': 289.6872622172038, 'temperature_1day_before_date': 287.29604212443036, 'temperature_end_date': 286.37215932210285, 'precipitation_3days_before_date': 0.000506669282913208, 'precipitation_1day_before_date': 0.00152607262134552, 'precipitation_end_date': 0.0011539792813906047, 'ndvi_3days_before_date': 6722, 'ndvi_end_date': 6722, 'lai_high_3days_before_date': 2.9013148716517856, 'lai_high_1day_before_date': 2.94921875, 'lai_high_end_date': 2.973179408482143, 'lai_low_3days_before_date': 2.978602818080357, 'lai_low_1day_before_date': 2.985752650669643, 'lai_low_end_date': None, 'albedo_3days_before_date': 0.15072195657661983, 'albedo_1day_before_date': 0.15197711384722165, 'albedo_end_date': 0.15260236231344088, 'humidity_3days_before_date': 4.838730335235596, 'humidity_1day_before_date': 4.773486614227295, 'humidity_end_date': 4.743446350097656, 'humidity_3days_after_date': 4.73514986038208, 'ndvi_1day_before_date': 6722}, '2023_11': {'start_date': '2023-05-06', 'end_date': '2023-05-07', 'duration': 2, 'total_precipitation': 0.0032523548625733156, 'longitude': 1.9974518223711788, 'latitude': 42.96909151699277, 'temperature_3days_before_date': 289.8125826517741, 'temperature_1day_before_date': 289.9672457377116, 'temperature_end_date': 288.3295981089274, 'precipitation_3days_before_date': 4.781782627105713e-05, 'precipitation_1day_before_date': 0.001167386770248413, 'precipitation_end_date': 0.0019230004400014877, 'ndvi_3days_before_date': 6722, 'ndvi_end_date': 6722, 'lai_high_3days_before_date': 3.0450613839285716, 'lai_high_1day_before_date': 3.092982700892857, 'lai_high_end_date': 3.116943359375, 'lai_low_3days_before_date': 3.0000523158482144, 'lai_low_1day_before_date': 3.0072021484375, 'lai_low_end_date': None, 'albedo_3days_before_date': 0.15448333216564997, 'albedo_1day_before_date': 0.15573384772453988, 'albedo_end_date': 0.156359251588583, 'humidity_3days_before_date': 4.73514986038208, 'humidity_1day_before_date': 4.836015224456787, 'humidity_end_date': 4.935540676116943, 'humidity_3days_after_date': 5.100978851318359, 'ndvi_1day_before_date': 6722}, '2023_12': {'start_date': '2023-05-09', 'end_date': '2023-05-09', 'duration': 1, 'total_precipitation': 0.0022418049296323494, 'longitude': 1.9974518223711788, 'latitude': 42.96909151699277, 'temperature_3days_before_date': 289.9672457377116, 'temperature_1day_before_date': 287.8261362711589, 'temperature_end_date': 286.5880438486735, 'precipitation_3days_before_date': 0.001167386770248413, 'precipitation_1day_before_date': 0.0004191230982542038, 'precipitation_end_date': 0.0017583668231964111, 'ndvi_3days_before_date': 6722, 'ndvi_end_date': 6722, 'lai_high_3days_before_date': 3.092982700892857, 'lai_high_1day_before_date': 3.140904017857143, 'lai_high_end_date': 3.1648472377232144, 'lai_low_3days_before_date': 3.0072021484375, 'lai_low_1day_before_date': 3.014369419642857, 'lai_low_end_date': None, 'albedo_3days_before_date': 0.15573384772453988, 'albedo_1day_before_date': 0.1569877453148365, 'albedo_end_date': 0.15761222583906992, 'humidity_3days_before_date': 4.836015224456787, 'humidity_1day_before_date': 4.966864585876465, 'humidity_end_date': 5.054299354553223, 'humidity_3days_after_date': 5.128508567810059, 'ndvi_1day_before_date': 6722}, '2023_13': {'start_date': '2023-05-12', 'end_date': '2023-05-16', 'duration': 5, 'total_precipitation': 0.004773784212333299, 'longitude': 1.9974518223711788, 'latitude': 42.96909151699277, 'temperature_3days_before_date': 284.09440358479816, 'temperature_1day_before_date': 285.1926860809326, 'temperature_end_date': 284.55173937479657, 'precipitation_3days_before_date': 0.00093097984790802, 'precipitation_1day_before_date': 0.0008466526354027337, 'precipitation_end_date': 0.0005255192518234253, 'ndvi_3days_before_date': 7573, 'ndvi_end_date': 7573, 'lai_high_3days_before_date': 3.2358572823660716, 'lai_high_1day_before_date': 3.2564697265625, 'lai_high_end_date': 3.2630789620535716, 'lai_low_3days_before_date': 3.0285121372767856, 'lai_low_1day_before_date': 3.031529017857143, 'lai_low_end_date': None, 'albedo_3days_before_date': 0.15934971560324943, 'albedo_1day_before_date': 0.15975867797221457, 'albedo_end_date': 0.15985038876533508, 'humidity_3days_before_date': 5.149490833282471, 'humidity_1day_before_date': 5.041386127471924, 'humidity_end_date': 5.005626201629639, 'humidity_3days_after_date': 5.065392017364502, 'ndvi_1day_before_date': 7573}, '2023_14': {'start_date': '2023-05-22', 'end_date': '2023-06-06', 'duration': 16, 'total_precipitation': 0.01951472683711651, 'longitude': 1.9974518223711788, 'latitude': 42.96909151699277, 'temperature_3days_before_date': 291.10932477315265, 'temperature_1day_before_date': 291.69372177124023, 'temperature_end_date': 291.93092409769696, 'precipitation_3days_before_date': 0.00013219565153121948, 'precipitation_1day_before_date': 8.954107761383057e-05, 'precipitation_end_date': 0.001362726092338562, 'ndvi_3days_before_date': 7690.5, 'ndvi_end_date': 7690.5, 'lai_high_3days_before_date': 3.381801060267857, 'lai_high_1day_before_date': 3.3949497767857144, 'lai_high_end_date': 3.4015415736607144, 'lai_low_3days_before_date': 3.049351283482143, 'lai_low_1day_before_date': 3.051234654017857, 'lai_low_end_date': None, 'albedo_3days_before_date': 0.16148883210761206, 'albedo_1day_before_date': 0.16166916542819568, 'albedo_end_date': 0.16176143341830798, 'humidity_3days_before_date': 4.8532891273498535, 'humidity_1day_before_date': 4.890220642089844, 'humidity_end_date': 4.925265789031982, 'humidity_3days_after_date': 5.107903003692627, 'ndvi_1day_before_date': 7690.5}, '2023_15': {'start_date': '2023-06-09', 'end_date': '2023-06-14', 'duration': 6, 'total_precipitation': 0.013720958344979472, 'longitude': 1.9974518223711788, 'latitude': 42.96909151699277, 'temperature_3days_before_date': 292.6460367838542, 'temperature_1day_before_date': 291.39612134297687, 'temperature_end_date': 290.8705081939697, 'precipitation_3days_before_date': 0.0002724975347518921, 'precipitation_1day_before_date': 0.003368169069290161, 'precipitation_end_date': 0.0019273944199085236, 'ndvi_3days_before_date': 7809, 'ndvi_end_date': 7430, 'lai_high_3days_before_date': 3.430995396205357, 'lai_high_1day_before_date': 3.4340122767857144, 'lai_high_end_date': 3.433018275669643, 'lai_low_3days_before_date': 3.056361607142857, 'lai_low_1day_before_date': 3.0567103794642856, 'lai_low_end_date': None, 'albedo_3days_before_date': 0.16214019751974515, 'albedo_1day_before_date': 0.1620462621961321, 'albedo_end_date': 0.1619244712804045, 'humidity_3days_before_date': 5.049602508544922, 'humidity_1day_before_date': 4.966117858886719, 'humidity_end_date': 4.869502544403076, 'humidity_3days_after_date': 4.808401107788086, 'ndvi_1day_before_date': 7430}, '2023_16': {'start_date': '2023-06-21', 'end_date': '2023-06-22', 'duration': 2, 'total_precipitation': 0.005495930997284448, 'longitude': 1.9974518223711788, 'latitude': 42.96909151699277, 'temperature_3days_before_date': 293.3047682444255, 'temperature_1day_before_date': 294.0362911224365, 'temperature_end_date': 292.53210576375324, 'precipitation_3days_before_date': 0.0001745074987411499, 'precipitation_1day_before_date': 0.0017053782939910889, 'precipitation_end_date': 0.004707890748875343, 'ndvi_3days_before_date': 7430, 'ndvi_end_date': 7430, 'lai_high_3days_before_date': 3.410975864955357, 'lai_high_1day_before_date': 3.4009312220982144, 'lai_high_end_date': 3.395908900669643, 'lai_low_3days_before_date': 3.052734375, 'lai_low_1day_before_date': 3.0510428292410716, 'lai_low_end_date': None, 'albedo_3days_before_date': 0.1607496254146099, 'albedo_1day_before_date': 0.16022999957203865, 'albedo_end_date': 0.15997018665075302, 'humidity_3days_before_date': 4.744274616241455, 'humidity_1day_before_date': 4.681411266326904, 'humidity_end_date': 4.621967315673828, 'humidity_3days_after_date': 4.548030376434326, 'ndvi_1day_before_date': 7430}, '2023_17': {'start_date': '2023-06-29', 'end_date': '2023-06-30', 'duration': 2, 'total_precipitation': 0.0048521052859524655, 'longitude': 1.9974518223711788, 'latitude': 42.96909151699277, 'temperature_3days_before_date': 294.7314573923747, 'temperature_1day_before_date': 293.8483778635661, 'temperature_end_date': 291.4096336364746, 'precipitation_3days_before_date': 2.9385089874267578e-05, 'precipitation_1day_before_date': 0.0032220929861068726, 'precipitation_end_date': 0.0013011538866862793, 'ndvi_3days_before_date': 7051, 'ndvi_end_date': 7250.5, 'lai_high_3days_before_date': 3.370814732142857, 'lai_high_1day_before_date': 3.3607700892857144, 'lai_high_end_date': 3.355747767857143, 'lai_low_3days_before_date': 3.045985630580357, 'lai_low_1day_before_date': 3.044276646205357, 'lai_low_end_date': None, 'albedo_3days_before_date': 0.1586711225765092, 'albedo_1day_before_date': 0.15815149673393794, 'albedo_end_date': 0.1578916838126523, 'humidity_3days_before_date': 4.555001735687256, 'humidity_1day_before_date': 4.627710342407227, 'humidity_end_date': 4.61296272277832, 'humidity_3days_after_date': 4.523697853088379, 'ndvi_1day_before_date': 7250.5}, '2023_18': {'start_date': '2023-07-04', 'end_date': '2023-07-06', 'duration': 3, 'total_precipitation': 0.0052601333123188, 'longitude': 1.9974518223711788, 'latitude': 42.96909151699277, 'temperature_3days_before_date': 292.8228708902995, 'temperature_1day_before_date': 292.9947338104248, 'temperature_end_date': 293.72229131062824, 'precipitation_3days_before_date': 1.691281795501709e-05, 'precipitation_1day_before_date': 0.0004327744245529175, 'precipitation_end_date': 0.002126261591911316, 'ndvi_3days_before_date': 7250.5, 'ndvi_end_date': 7250.5, 'lai_high_3days_before_date': 3.3406808035714284, 'lai_high_1day_before_date': 3.3306361607142856, 'lai_high_end_date': 3.3256138392857144, 'lai_low_3days_before_date': 3.0408761160714284, 'lai_low_1day_before_date': 3.0391671316964284, 'lai_low_end_date': None, 'albedo_3days_before_date': 0.1571100652217865, 'albedo_1day_before_date': 0.15659043937921524, 'albedo_end_date': 0.1563306264579296, 'humidity_3days_before_date': 4.523697853088379, 'humidity_1day_before_date': 4.403533935546875, 'humidity_end_date': 4.355854511260986, 'humidity_3days_after_date': 4.274463176727295, 'ndvi_1day_before_date': 7250.5}, '2023_19': {'start_date': '2023-07-11', 'end_date': '2023-07-12', 'duration': 2, 'total_precipitation': 0.0018392791802936523, 'longitude': 1.9974518223711788, 'latitude': 42.96909151699277, 'temperature_3days_before_date': 296.87656656901044, 'temperature_1day_before_date': 298.6941197713216, 'temperature_end_date': 295.39629554748535, 'precipitation_3days_before_date': 0.00014343857765197754, 'precipitation_1day_before_date': 0.0010519325733184814, 'precipitation_end_date': 0.00024811792383161446, 'ndvi_3days_before_date': 7250.5, 'ndvi_end_date': 7250.5, 'lai_high_3days_before_date': 3.310546875, 'lai_high_1day_before_date': 3.2998570033482144, 'lai_high_end_date': 3.2935965401785716, 'lai_low_3days_before_date': 3.0357840401785716, 'lai_low_1day_before_date': 3.034022739955357, 'lai_low_end_date': None, 'albedo_3days_before_date': 0.15555118822625705, 'albedo_1day_before_date': 0.15502891263791493, 'albedo_end_date': 0.15476162039807864, 'humidity_3days_before_date': 4.274463176727295, 'humidity_1day_before_date': 4.250680446624756, 'humidity_end_date': 4.220919609069824, 'humidity_3days_after_date': 4.1559038162231445, 'ndvi_1day_before_date': 7250.5}, '2023_20': {'start_date': '2023-07-15', 'end_date': '2023-07-15', 'duration': 1, 'total_precipitation': 0.0011098451779670208, 'longitude': 1.9974518223711788, 'latitude': 42.96909151699277, 'temperature_3days_before_date': 295.39629554748535, 'temperature_1day_before_date': 295.922513961792, 'temperature_end_date': 296.06438573201496, 'precipitation_3days_before_date': 0.00024811792383161446, 'precipitation_1day_before_date': 2.9265880584716797e-05, 'precipitation_end_date': 0.0016146600246429443, 'ndvi_3days_before_date': 7250.5, 'ndvi_end_date': 7334, 'lai_high_3days_before_date': 3.2935965401785716, 'lai_high_1day_before_date': 3.279209681919643, 'lai_high_end_date': 3.2711007254464284, 'lai_low_3days_before_date': 3.0330287388392856, 'lai_low_1day_before_date': 3.030848911830357, 'lai_low_end_date': None, 'albedo_3days_before_date': 0.15476162039807864, 'albedo_1day_before_date': 0.1542190866810935, 'albedo_end_date': 0.15394166484475136, 'humidity_3days_before_date': 4.220919609069824, 'humidity_1day_before_date': 4.155053615570068, 'humidity_end_date': 4.1559038162231445, 'humidity_3days_after_date': 4.093193531036377, 'ndvi_1day_before_date': 7334}, '2023_21': {'start_date': '2023-07-27', 'end_date': '2023-07-29', 'duration': 3, 'total_precipitation': 0.007397961792247977, 'longitude': 1.9974518223711788, 'latitude': 42.96909151699277, 'temperature_3days_before_date': 292.8727512359619, 'temperature_1day_before_date': 295.63549550374347, 'temperature_end_date': 296.1192156473796, 'precipitation_3days_before_date': 5.647540092468262e-06, 'precipitation_1day_before_date': 0.000885695219039917, 'precipitation_end_date': 0.003040790557861328, 'ndvi_3days_before_date': 7334, 'ndvi_end_date': 7218, 'lai_high_3days_before_date': 3.1688755580357144, 'lai_high_1day_before_date': 3.150181361607143, 'lai_high_end_date': 3.140834263392857, 'lai_low_3days_before_date': 3.015101841517857, 'lai_low_1day_before_date': 3.0124337332589284, 'lai_low_end_date': None, 'albedo_3days_before_date': 0.1508342485342707, 'albedo_1day_before_date': 0.1502673476934433, 'albedo_end_date': 0.14998389993395125, 'humidity_3days_before_date': 4.261794090270996, 'humidity_1day_before_date': 4.260695934295654, 'humidity_end_date': 4.271345615386963, 'humidity_3days_after_date': 4.182984828948975, 'ndvi_1day_before_date': 7334}, '2023_22': {'start_date': '2023-08-02', 'end_date': '2023-08-02', 'duration': 1, 'total_precipitation': 0.0010705252952813993, 'longitude': 1.9974518223711788, 'latitude': 42.96909151699277, 'temperature_3days_before_date': 293.992182413737, 'temperature_1day_before_date': 294.222718556722, 'temperature_end_date': 295.0160427093506, 'precipitation_3days_before_date': 0.00014473497867584229, 'precipitation_1day_before_date': 1.5735626220703125e-05, 'precipitation_end_date': 0.0013352036476135254, 'ndvi_3days_before_date': 7082, 'ndvi_end_date': 7082, 'lai_high_3days_before_date': 3.1314871651785716, 'lai_high_1day_before_date': 3.11279296875, 'lai_high_end_date': 3.103428431919643, 'lai_low_3days_before_date': 3.009765625, 'lai_low_1day_before_date': 3.007114955357143, 'lai_low_end_date': None, 'albedo_3days_before_date': 0.14970045217445918, 'albedo_1day_before_date': 0.1491335609129497, 'albedo_end_date': 0.1488523025597845, 'humidity_3days_before_date': 4.238297939300537, 'humidity_1day_before_date': 4.182984828948975, 'humidity_end_date': 4.164682865142822, 'humidity_3days_after_date': 4.0057759284973145, 'ndvi_1day_before_date': 7082}, '2023_23': {'start_date': '2023-08-13', 'end_date': '2023-08-13', 'duration': 1, 'total_precipitation': 0.0014755708689818887, 'longitude': 1.9974518223711788, 'latitude': 42.96909151699277, 'temperature_3days_before_date': 295.68706130981445, 'temperature_1day_before_date': 297.2445290883382, 'temperature_end_date': 297.80028533935547, 'precipitation_3days_before_date': 7.505714893341064e-05, 'precipitation_1day_before_date': 0.0003208369016647339, 'precipitation_end_date': 0.0014249980449676514, 'ndvi_3days_before_date': 7082, 'ndvi_end_date': 7082, 'lai_high_3days_before_date': 3.0285470145089284, 'lai_high_1day_before_date': 3.010951450892857, 'lai_high_end_date': 3.002720424107143, 'lai_low_3days_before_date': 2.9951171875, 'lai_low_1day_before_date': 2.9925711495535716, 'lai_low_end_date': None, 'albedo_3days_before_date': 0.14658695459365845, 'albedo_1day_before_date': 0.14605030843189784, 'albedo_end_date': 0.1457949041255883, 'humidity_3days_before_date': 3.8986058235168457, 'humidity_1day_before_date': 3.8834118843078613, 'humidity_end_date': 3.8698019981384277, 'humidity_3days_after_date': 3.7942521572113037, 'ndvi_1day_before_date': 7082}, '2023_24': {'start_date': '2023-08-26', 'end_date': '2023-08-28', 'duration': 3, 'total_precipitation': 0.005841241733601922, 'longitude': 1.9974518223711788, 'latitude': 42.96909151699277, 'temperature_3days_before_date': 298.61453946431476, 'temperature_1day_before_date': 290.3961702982585, 'temperature_end_date': 289.88635698954266, 'precipitation_3days_before_date': 0.00018297135829925537, 'precipitation_1day_before_date': 0.0009368825703859329, 'precipitation_end_date': 0.0012286901473999023, 'ndvi_3days_before_date': 6991, 'ndvi_end_date': 6991, 'lai_high_3days_before_date': 2.919346400669643, 'lai_high_1day_before_date': 2.9058314732142856, 'lai_high_end_date': 2.899082728794643, 'lai_low_3days_before_date': 2.978794642857143, 'lai_low_1day_before_date': 2.9767543247767856, 'lai_low_end_date': None, 'albedo_3days_before_date': 0.14314709390912736, 'albedo_1day_before_date': 0.14271699530737741, 'albedo_end_date': 0.14250192046165466, 'humidity_3days_before_date': 4.306339263916016, 'humidity_1day_before_date': 4.325504302978516, 'humidity_end_date': 4.222202301025391, 'humidity_3days_after_date': 3.9747231006622314, 'ndvi_1day_before_date': 6991}, '2023_25': {'start_date': '2023-09-02', 'end_date': '2023-09-02', 'duration': 1, 'total_precipitation': 0.0010374244820845035, 'longitude': 1.9974518223711788, 'latitude': 42.96909151699277, 'temperature_3days_before_date': 290.88591893513996, 'temperature_1day_before_date': 293.4629713694255, 'temperature_end_date': 294.1829643249512, 'precipitation_3days_before_date': 0.00019676238298416138, 'precipitation_1day_before_date': 0.0001520583938194875, 'precipitation_end_date': 0.0006837397813796997, 'ndvi_3days_before_date': 7036, 'ndvi_end_date': 6420.5, 'lai_high_3days_before_date': 2.885532924107143, 'lai_high_1day_before_date': 2.8720005580357144, 'lai_high_end_date': 2.865234375, 'lai_low_3days_before_date': 2.9736502511160716, 'lai_low_1day_before_date': 2.9716099330357144, 'lai_low_end_date': None, 'albedo_3days_before_date': 0.1420717654483659, 'albedo_1day_before_date': 0.1416394534919943, 'albedo_end_date': 0.14142219402960368, 'humidity_3days_before_date': 4.03271484375, 'humidity_1day_before_date': 3.917787790298462, 'humidity_end_date': 3.8680343627929688, 'humidity_3days_after_date': 3.7578728199005127, 'ndvi_1day_before_date': 6420.5}, '2023_26': {'start_date': '2023-09-12', 'end_date': '2023-09-13', 'duration': 2, 'total_precipitation': 0.008145830601138939, 'longitude': 1.9974518223711788, 'latitude': 42.96909151699277, 'temperature_3days_before_date': 295.9430700937907, 'temperature_1day_before_date': 294.0544083913167, 'temperature_end_date': 292.88450622558594, 'precipitation_3days_before_date': 8.943676948547363e-05, 'precipitation_1day_before_date': 0.00912080705165863, 'precipitation_end_date': 0.0023125549778342247, 'ndvi_3days_before_date': 6420.5, 'ndvi_end_date': 6420.5, 'lai_high_3days_before_date': 2.811122349330357, 'lai_high_1day_before_date': 2.7933175223214284, 'lai_high_end_date': 2.7822788783482144, 'lai_low_3days_before_date': 2.9623500279017856, 'lai_low_1day_before_date': 2.9596993582589284, 'lai_low_end_date': None, 'albedo_3days_before_date': 0.1396973840892315, 'albedo_1day_before_date': 0.13925634963171823, 'albedo_end_date': 0.13903693429061345, 'humidity_3days_before_date': 4.136305809020996, 'humidity_1day_before_date': 4.257644176483154, 'humidity_end_date': 4.2004570960998535, 'humidity_3days_after_date': 4.189016342163086, 'ndvi_1day_before_date': 6420.5}, '2023_27': {'start_date': '2023-09-15', 'end_date': '2023-09-15', 'duration': 1, 'total_precipitation': 0.0021826894282315377, 'longitude': 1.9974518223711788, 'latitude': 42.96909151699277, 'temperature_3days_before_date': 294.0544083913167, 'temperature_1day_before_date': 292.9756457010905, 'temperature_end_date': 292.8235149383545, 'precipitation_3days_before_date': 0.00912080705165863, 'precipitation_1day_before_date': 7.328391075134277e-05, 'precipitation_end_date': 0.0011130571365356445, 'ndvi_3days_before_date': 6420.5, 'ndvi_end_date': 5805, 'lai_high_3days_before_date': 2.7933175223214284, 'lai_high_1day_before_date': 2.7697928292410716, 'lai_high_end_date': 2.755894252232143, 'lai_low_3days_before_date': 2.9596993582589284, 'lai_low_1day_before_date': 2.956211635044643, 'lai_low_end_date': None, 'albedo_3days_before_date': 0.13925634963171823, 'albedo_1day_before_date': 0.13881244297538484, 'albedo_end_date': 0.13858721564923013, 'humidity_3days_before_date': 4.257644176483154, 'humidity_1day_before_date': 4.180185317993164, 'humidity_end_date': 4.219868183135986, 'humidity_3days_after_date': 4.174230098724365, 'ndvi_1day_before_date': 6420.5}, '2023_28': {'start_date': '2023-09-21', 'end_date': '2023-09-22', 'duration': 2, 'total_precipitation': 0.002892032469045794, 'longitude': 1.9974518223711788, 'latitude': 42.96909151699277, 'temperature_3days_before_date': 292.87030029296875, 'temperature_1day_before_date': 291.62424914042157, 'temperature_end_date': 289.7218818664551, 'precipitation_3days_before_date': 6.154179573059082e-06, 'precipitation_1day_before_date': 0.002207532525062561, 'precipitation_end_date': 0.0001722872257232666, 'ndvi_3days_before_date': 6098.5, 'ndvi_end_date': 6098.5, 'lai_high_3days_before_date': 2.690342494419643, 'lai_high_1day_before_date': 2.6568777901785716, 'lai_high_end_date': 2.64013671875, 'lai_low_3days_before_date': 2.944545200892857, 'lai_low_1day_before_date': 2.939662388392857, 'lai_low_end_date': None, 'albedo_3days_before_date': 0.1376790888607502, 'albedo_1day_before_date': 0.1372235885688237, 'albedo_end_date': 0.13699692913464137, 'humidity_3days_before_date': 4.136987686157227, 'humidity_1day_before_date': 4.073878288269043, 'humidity_end_date': 4.001821041107178, 'humidity_3days_after_date': 3.851447582244873, 'ndvi_1day_before_date': 6098.5}, '2023_29': {'start_date': '2023-10-14', 'end_date': '2023-10-14', 'duration': 1, 'total_precipitation': 0.001347602004983571, 'longitude': 1.9974518223711788, 'latitude': 42.96909151699277, 'temperature_3days_before_date': 291.90102513631183, 'temperature_1day_before_date': 292.85163434346515, 'temperature_end_date': 291.1164487202962, 'precipitation_3days_before_date': 1.3887882232666016e-05, 'precipitation_1day_before_date': 1.9878149032592773e-05, 'precipitation_end_date': 0.0013168752193450928, 'ndvi_3days_before_date': 6325.5, 'ndvi_end_date': 6325.5, 'lai_high_3days_before_date': 2.322666713169643, 'lai_high_1day_before_date': 2.292759486607143, 'lai_high_end_date': 2.2788609095982144, 'lai_low_3days_before_date': 2.8907645089285716, 'lai_low_1day_before_date': 2.8862827845982144, 'lai_low_end_date': None, 'albedo_3days_before_date': 0.1326262503862381, 'albedo_1day_before_date': 0.13200390019587108, 'albedo_end_date': 0.13164097336786135, 'humidity_3days_before_date': 3.7881834506988525, 'humidity_1day_before_date': 3.9871766567230225, 'humidity_end_date': 4.0786967277526855, 'humidity_3days_after_date': 4.235865592956543, 'ndvi_1day_before_date': 6325.5}, '2023_30': {'start_date': '2023-10-19', 'end_date': '2023-10-20', 'duration': 2, 'total_precipitation': 0.004342467457898626, 'longitude': 1.9974518223711788, 'latitude': 42.96909151699277, 'temperature_3days_before_date': 290.38324038187665, 'temperature_1day_before_date': 290.59099833170575, 'temperature_end_date': 289.41230328877765, 'precipitation_3days_before_date': 4.99039888381958e-05, 'precipitation_1day_before_date': 0.0014150023459365002, 'precipitation_end_date': 0.0034595653414726257, 'ndvi_3days_before_date': 6259, 'ndvi_end_date': 6256, 'lai_high_3days_before_date': 2.2415597098214284, 'lai_high_1day_before_date': 2.2181222098214284, 'lai_high_end_date': 2.206386021205357, 'lai_low_3days_before_date': 2.8783656529017856, 'lai_low_1day_before_date': 2.874668666294643, 'lai_low_end_date': None, 'albedo_3days_before_date': 0.13035499730280467, 'albedo_1day_before_date': 0.12943141694579804, 'albedo_end_date': 0.1289693175682, 'humidity_3days_before_date': 4.235865592956543, 'humidity_1day_before_date': 4.323616027832031, 'humidity_end_date': 4.341548442840576, 'humidity_3days_after_date': 4.359903335571289, 'ndvi_1day_before_date': 6256}, '2023_31': {'start_date': '2023-10-26', 'end_date': '2023-10-27', 'duration': 2, 'total_precipitation': 0.0048325340986164105, 'longitude': 1.9974518223711788, 'latitude': 42.96909151699277, 'temperature_3days_before_date': 286.9473470052083, 'temperature_1day_before_date': 287.54574457804364, 'temperature_end_date': 286.7244408925374, 'precipitation_3days_before_date': 0.001077502965927124, 'precipitation_1day_before_date': 0.00562615692615509, 'precipitation_end_date': 0.0007267892360687256, 'ndvi_3days_before_date': 6256, 'ndvi_end_date': 6256, 'lai_high_3days_before_date': 2.1594761439732144, 'lai_high_1day_before_date': 2.136021205357143, 'lai_high_end_date': 2.124302455357143, 'lai_low_3days_before_date': 2.8654261997767856, 'lai_low_1day_before_date': 2.861729213169643, 'lai_low_end_date': None, 'albedo_3days_before_date': 0.12711959279009274, 'albedo_1day_before_date': 0.12619073422891752, 'albedo_end_date': 0.12572586802499636, 'humidity_3days_before_date': 4.3727216720581055, 'humidity_1day_before_date': 4.334165096282959, 'humidity_end_date': 4.396946907043457, 'humidity_3days_after_date': 4.546107292175293, 'ndvi_1day_before_date': 6256}, '2023_32': {'start_date': '2023-10-30', 'end_date': '2023-10-30', 'duration': 1, 'total_precipitation': 0.0024644511202615064, 'longitude': 1.9974518223711788, 'latitude': 42.96909151699277, 'temperature_3days_before_date': 286.7244408925374, 'temperature_1day_before_date': 286.4724941253662, 'temperature_end_date': 285.5445378621419, 'precipitation_3days_before_date': 0.0007267892360687256, 'precipitation_1day_before_date': 3.229081528388633e-06, 'precipitation_end_date': 0.0033623009920233926, 'ndvi_3days_before_date': 6256, 'ndvi_end_date': 6256, 'lai_high_3days_before_date': 2.124302455357143, 'lai_high_1day_before_date': 2.100864955357143, 'lai_high_end_date': 2.089146205357143, 'lai_low_3days_before_date': 2.8598807198660716, 'lai_low_1day_before_date': 2.856166294642857, 'lai_low_end_date': None, 'albedo_3days_before_date': 0.12572586802499636, 'albedo_1day_before_date': 0.1248527956860406, 'albedo_end_date': 0.12439446417348725, 'humidity_3days_before_date': 4.396946907043457, 'humidity_1day_before_date': 4.513878345489502, 'humidity_end_date': 4.546107292175293, 'humidity_3days_after_date': 4.579967498779297, 'ndvi_1day_before_date': 6256}, '2023_33': {'start_date': '2023-11-02', 'end_date': '2023-11-02', 'duration': 1, 'total_precipitation': 0.0027155833126253936, 'longitude': 1.9974518223711788, 'latitude': 42.96909151699277, 'temperature_3days_before_date': 285.5445378621419, 'temperature_1day_before_date': 284.07800547281903, 'temperature_end_date': 283.65695063273114, 'precipitation_3days_before_date': 0.0033623009920233926, 'precipitation_1day_before_date': 6.923079490661621e-05, 'precipitation_end_date': 0.0026252567768096924, 'ndvi_3days_before_date': 6256, 'ndvi_end_date': 6253, 'lai_high_3days_before_date': 2.089146205357143, 'lai_high_1day_before_date': 2.065673828125, 'lai_high_end_date': 2.053955078125, 'lai_low_3days_before_date': 2.8543178013392856, 'lai_low_1day_before_date': 2.8506382533482144, 'lai_low_end_date': None, 'albedo_3days_before_date': 0.12439446417348725, 'albedo_1day_before_date': 0.12347298488020897, 'albedo_end_date': 0.12301230270947729, 'humidity_3days_before_date': 4.546107292175293, 'humidity_1day_before_date': 4.563673496246338, 'humidity_end_date': 4.579967498779297, 'humidity_3days_after_date': 4.519094467163086, 'ndvi_1day_before_date': 6256}, '2023_34': {'start_date': '2023-11-21', 'end_date': '2023-11-22', 'duration': 2, 'total_precipitation': 0.002050739621384962, 'longitude': 1.9974518223711788, 'latitude': 42.96909151699277, 'temperature_3days_before_date': 283.745600382487, 'temperature_1day_before_date': 282.33540026346844, 'temperature_end_date': 281.4538516998291, 'precipitation_3days_before_date': 8.64807248035504e-07, 'precipitation_1day_before_date': 0.0019331574440002441, 'precipitation_end_date': 0.000995740294456482, 'ndvi_3days_before_date': 6033, 'ndvi_end_date': 5879.5, 'lai_high_3days_before_date': 1.8948625837053572, 'lai_high_1day_before_date': 1.8848179408482142, 'lai_high_end_date': 1.8797956194196428, 'lai_low_3days_before_date': 2.824672154017857, 'lai_low_1day_before_date': 2.8234165736607144, 'lai_low_end_date': None, 'albedo_3days_before_date': 0.11669079799737249, 'albedo_1day_before_date': 0.11630186225686755, 'albedo_end_date': 0.11610739465270724, 'humidity_3days_before_date': 4.653977870941162, 'humidity_1day_before_date': 4.720740795135498, 'humidity_end_date': 4.673089027404785, 'humidity_3days_after_date': 4.715392589569092, 'ndvi_1day_before_date': 5879.5}, '2023_35': {'start_date': '2023-11-27', 'end_date': '2023-11-28', 'duration': 2, 'total_precipitation': 0.0015995180356837085, 'longitude': 1.9974518223711788, 'latitude': 42.96909151699277, 'temperature_3days_before_date': 280.5911973317464, 'temperature_1day_before_date': 279.6470775604248, 'temperature_end_date': 281.36208788553876, 'precipitation_3days_before_date': 0.00031256675720214844, 'precipitation_1day_before_date': 0.0010554194450378418, 'precipitation_end_date': 0.000679483637213707, 'ndvi_3days_before_date': 5879.5, 'ndvi_end_date': 5879.5, 'lai_high_3days_before_date': 1.86474609375, 'lai_high_1day_before_date': 1.8547188895089286, 'lai_high_end_date': 1.8496965680803572, 'lai_low_3days_before_date': 2.8209054129464284, 'lai_low_1day_before_date': 2.819614955357143, 'lai_low_end_date': None, 'albedo_3days_before_date': 0.11628717609814235, 'albedo_1day_before_date': 0.11727371120027133, 'albedo_end_date': 0.11756098536508423, 'humidity_3days_before_date': 4.715392589569092, 'humidity_1day_before_date': 4.784630298614502, 'humidity_end_date': 4.784447193145752, 'humidity_3days_after_date': 4.78097677230835, 'ndvi_1day_before_date': 5879.5}, '2023_36': {'start_date': '2023-12-01', 'end_date': '2023-12-01', 'duration': 1, 'total_precipitation': 0.0011600118154004664, 'longitude': 1.9974518223711788, 'latitude': 42.96909151699277, 'temperature_3days_before_date': 281.36208788553876, 'temperature_1day_before_date': 282.6047814687093, 'temperature_end_date': 280.95158131917316, 'precipitation_3days_before_date': 0.000679483637213707, 'precipitation_1day_before_date': 0.0006151199340820312, 'precipitation_end_date': 0.0009503662586212158, 'ndvi_3days_before_date': 5879.5, 'ndvi_end_date': 5879.5, 'lai_high_3days_before_date': 1.8496965680803572, 'lai_high_1day_before_date': 1.8396519252232142, 'lai_high_end_date': 1.8346296037946428, 'lai_low_3days_before_date': 2.8189697265625, 'lai_low_1day_before_date': 2.8176967075892856, 'lai_low_end_date': None, 'albedo_3days_before_date': 0.11756098536508423, 'albedo_1day_before_date': 0.1176973884659154, 'albedo_end_date': 0.11762935029608863, 'humidity_3days_before_date': 4.784447193145752, 'humidity_1day_before_date': 4.798316478729248, 'humidity_end_date': 4.78097677230835, 'humidity_3days_after_date': 4.734503269195557, 'ndvi_1day_before_date': 5879.5}, '2023_37': {'start_date': '2023-12-08', 'end_date': '2023-12-09', 'duration': 2, 'total_precipitation': 0.00276040895458064, 'longitude': 1.9974518223711788, 'latitude': 42.96909151699277, 'temperature_3days_before_date': 278.79132080078125, 'temperature_1day_before_date': 280.57618077596027, 'temperature_end_date': 280.8671474456787, 'precipitation_3days_before_date': 4.242360591888428e-05, 'precipitation_1day_before_date': 0.0020485147833824158, 'precipitation_end_date': 0.0006742030382156372, 'ndvi_3days_before_date': 5593, 'ndvi_end_date': 5593, 'lai_high_3days_before_date': 1.8095005580357142, 'lai_high_1day_before_date': 1.7994384765625, 'lai_high_end_date': 1.79443359375, 'lai_low_3days_before_date': 2.8139474051339284, 'lai_low_1day_before_date': 2.8126743861607144, 'lai_low_end_date': None, 'albedo_3days_before_date': 0.11379683390259743, 'albedo_1day_before_date': 0.11327517405152321, 'albedo_end_date': 0.11318097848977361, 'humidity_3days_before_date': 4.700112342834473, 'humidity_1day_before_date': 4.84501838684082, 'humidity_end_date': 4.809709548950195, 'humidity_3days_after_date': 4.80120849609375, 'ndvi_1day_before_date': 5593}, '2023_38': {'start_date': '2023-12-13', 'end_date': '2023-12-14', 'duration': 2, 'total_precipitation': 0.0025448513527031595, 'longitude': 1.9974518223711788, 'latitude': 42.96909151699277, 'temperature_3days_before_date': 283.060307820638, 'temperature_1day_before_date': 282.0556189219157, 'temperature_end_date': 279.7853139241536, 'precipitation_3days_before_date': 8.597968985668558e-07, 'precipitation_1day_before_date': 0.0016360357403755188, 'precipitation_end_date': 0.0010158941149711609, 'ndvi_3days_before_date': 5593, 'ndvi_end_date': 5593, 'lai_high_3days_before_date': 1.7847551618303572, 'lai_high_1day_before_date': 1.7766287667410714, 'lai_high_end_date': 1.7731410435267858, 'lai_low_3days_before_date': 2.8107735770089284, 'lai_low_1day_before_date': 2.8096400669642856, 'lai_low_end_date': None, 'albedo_3days_before_date': 0.11289359096969877, 'albedo_1day_before_date': 0.1126222051680088, 'albedo_end_date': 0.11249169600861413, 'humidity_3days_before_date': 4.801863670349121, 'humidity_1day_before_date': 4.797050476074219, 'humidity_end_date': 4.776785850524902, 'humidity_3days_after_date': 4.74294900894165, 'ndvi_1day_before_date': 5593}, '2023_39': {'start_date': '2023-12-20', 'end_date': '2023-12-20', 'duration': 1, 'total_precipitation': 0.001113743692899917, 'longitude': 1.9974518223711788, 'latitude': 42.96909151699277, 'temperature_3days_before_date': 278.248477935791, 'temperature_1day_before_date': 278.0319487253825, 'temperature_end_date': 279.0392297108968, 'precipitation_3days_before_date': 8.702278364580707e-07, 'precipitation_1day_before_date': 1.617521047592163e-05, 'precipitation_end_date': 0.001005224883556366, 'ndvi_3days_before_date': 5593, 'ndvi_end_date': 5513, 'lai_high_3days_before_date': 1.7649972098214286, 'lai_high_1day_before_date': 1.7603236607142858, 'lai_high_end_date': 1.7579868861607142, 'lai_low_3days_before_date': 2.807582310267857, 'lai_low_1day_before_date': 2.806605747767857, 'lai_low_end_date': None, 'albedo_3days_before_date': 0.11174136506659645, 'albedo_1day_before_date': 0.11144876267228808, 'albedo_end_date': 0.11131990009120532, 'humidity_3days_before_date': 4.74294900894165, 'humidity_1day_before_date': 4.74716329574585, 'humidity_end_date': 4.744753360748291, 'humidity_3days_after_date': 4.593480110168457, 'ndvi_1day_before_date': 5584}}\n",
      "39\n"
     ]
    }
   ],
   "source": [
    "print(results)\n",
    "print(len(results))\n"
   ]
  },
  {
   "cell_type": "code",
   "execution_count": 23,
   "metadata": {},
   "outputs": [
    {
     "data": {
      "text/html": [
       "\n",
       "            <style>\n",
       "                .geemap-dark {\n",
       "                    --jp-widgets-color: white;\n",
       "                    --jp-widgets-label-color: white;\n",
       "                    --jp-ui-font-color1: white;\n",
       "                    --jp-layout-color2: #454545;\n",
       "                    background-color: #383838;\n",
       "                }\n",
       "\n",
       "                .geemap-dark .jupyter-button {\n",
       "                    --jp-layout-color3: #383838;\n",
       "                }\n",
       "\n",
       "                .geemap-colab {\n",
       "                    background-color: var(--colab-primary-surface-color, white);\n",
       "                }\n",
       "\n",
       "                .geemap-colab .jupyter-button {\n",
       "                    --jp-layout-color3: var(--colab-primary-surface-color, white);\n",
       "                }\n",
       "            </style>\n",
       "            "
      ],
      "text/plain": [
       "<IPython.core.display.HTML object>"
      ]
     },
     "metadata": {},
     "output_type": "display_data"
    }
   ],
   "source": [
    "import csv\n",
    "\n",
    "def get_headers(data):\n",
    "    headers = set()\n",
    "    for entry in data.values():\n",
    "        headers.update(entry.keys())\n",
    "    return ['id'] + sorted(headers)\n",
    "    \n",
    "    # Écriture du fichier CSV\n",
    "def export_to_csv(data, filename='output.csv'):\n",
    "    headers = get_headers(data)\n",
    "    with open(filename, mode='w', newline='') as file:\n",
    "        writer = csv.DictWriter(file, fieldnames=headers)\n",
    "        writer.writeheader()\n",
    "        \n",
    "        for key, values in data.items():\n",
    "            row = {'id': key, **values}\n",
    "            writer.writerow(row)\n",
    "    print(f\"Fichier CSV '{filename}' généré avec succès.\")"
   ]
  },
  {
   "cell_type": "code",
   "execution_count": 24,
   "metadata": {},
   "outputs": [
    {
     "data": {
      "text/html": [
       "\n",
       "            <style>\n",
       "                .geemap-dark {\n",
       "                    --jp-widgets-color: white;\n",
       "                    --jp-widgets-label-color: white;\n",
       "                    --jp-ui-font-color1: white;\n",
       "                    --jp-layout-color2: #454545;\n",
       "                    background-color: #383838;\n",
       "                }\n",
       "\n",
       "                .geemap-dark .jupyter-button {\n",
       "                    --jp-layout-color3: #383838;\n",
       "                }\n",
       "\n",
       "                .geemap-colab {\n",
       "                    background-color: var(--colab-primary-surface-color, white);\n",
       "                }\n",
       "\n",
       "                .geemap-colab .jupyter-button {\n",
       "                    --jp-layout-color3: var(--colab-primary-surface-color, white);\n",
       "                }\n",
       "            </style>\n",
       "            "
      ],
      "text/plain": [
       "<IPython.core.display.HTML object>"
      ]
     },
     "metadata": {},
     "output_type": "display_data"
    },
    {
     "name": "stdout",
     "output_type": "stream",
     "text": [
      "Fichier CSV 'truncated_results.csv' généré avec succès.\n"
     ]
    }
   ],
   "source": [
    "export_to_csv(results, 'truncated_results.csv')"
   ]
  },
  {
   "cell_type": "code",
   "execution_count": 25,
   "metadata": {},
   "outputs": [
    {
     "data": {
      "text/html": [
       "\n",
       "            <style>\n",
       "                .geemap-dark {\n",
       "                    --jp-widgets-color: white;\n",
       "                    --jp-widgets-label-color: white;\n",
       "                    --jp-ui-font-color1: white;\n",
       "                    --jp-layout-color2: #454545;\n",
       "                    background-color: #383838;\n",
       "                }\n",
       "\n",
       "                .geemap-dark .jupyter-button {\n",
       "                    --jp-layout-color3: #383838;\n",
       "                }\n",
       "\n",
       "                .geemap-colab {\n",
       "                    background-color: var(--colab-primary-surface-color, white);\n",
       "                }\n",
       "\n",
       "                .geemap-colab .jupyter-button {\n",
       "                    --jp-layout-color3: var(--colab-primary-surface-color, white);\n",
       "                }\n",
       "            </style>\n",
       "            "
      ],
      "text/plain": [
       "<IPython.core.display.HTML object>"
      ]
     },
     "metadata": {},
     "output_type": "display_data"
    }
   ],
   "source": [
    "from datetime import datetime, timedelta\n",
    "\n",
    "def generate_yearly_intervals(start_date, end_date):\n",
    "    \"\"\"\n",
    "    Génère des couples (start_date, end_date) avec un intervalle d'un an entre les dates.\n",
    "\n",
    "    :param start_date: Date de début au format 'YYYY-MM-DD'.\n",
    "    :param end_date: Date de fin au format 'YYYY-MM-DD'.\n",
    "    :return: Liste de tuples (start_date, end_date) avec un intervalle d'un an.\n",
    "    \"\"\"\n",
    "    start = datetime.strptime(start_date, \"%Y-%m-%d\")\n",
    "    end = datetime.strptime(end_date, \"%Y-%m-%d\")\n",
    "\n",
    "    intervals = []\n",
    "    \n",
    "    while start < end:\n",
    "        new_end = start + timedelta(days=365)  # Ajoute un an\n",
    "        if new_end > end:\n",
    "            new_end = end  # S'assure de ne pas dépasser la date finale\n",
    "        \n",
    "        intervals.append((start.strftime(\"%Y-%m-%d\"), new_end.strftime(\"%Y-%m-%d\")))\n",
    "        start = new_end  # Déplace la date de début au prochain intervalle\n",
    "    \n",
    "    return intervals\n",
    "\n",
    "\n",
    "def get_data_over_period(start_period,end_period,centroid):\n",
    "    years=generate_yearly_intervals(start_period, end_period)\n",
    "    print(years)\n",
    "    data={}\n",
    "    current=1\n",
    "    total=len(years)+1\n",
    "    for start_date, end_date in years:\n",
    "        print('Currently on year',start_date,end_date)\n",
    "        daily_precipitations=get_daily_precipitation(start_date, end_date, roi)\n",
    "        rainfall_episodes=identify_rainfall_episodes(daily_precipitations)\n",
    "        print(len(rainfall_episodes),' épisodes pluvieux cette année')\n",
    "        yearly_data=analyze_rainfall_episodes_parallel(start_date,rainfall_episodes,centroid)\n",
    "        data=data|yearly_data\n",
    "        print(len(data))\n",
    "    return data"
   ]
  },
  {
   "cell_type": "code",
   "execution_count": 26,
   "metadata": {},
   "outputs": [
    {
     "data": {
      "text/html": [
       "\n",
       "            <style>\n",
       "                .geemap-dark {\n",
       "                    --jp-widgets-color: white;\n",
       "                    --jp-widgets-label-color: white;\n",
       "                    --jp-ui-font-color1: white;\n",
       "                    --jp-layout-color2: #454545;\n",
       "                    background-color: #383838;\n",
       "                }\n",
       "\n",
       "                .geemap-dark .jupyter-button {\n",
       "                    --jp-layout-color3: #383838;\n",
       "                }\n",
       "\n",
       "                .geemap-colab {\n",
       "                    background-color: var(--colab-primary-surface-color, white);\n",
       "                }\n",
       "\n",
       "                .geemap-colab .jupyter-button {\n",
       "                    --jp-layout-color3: var(--colab-primary-surface-color, white);\n",
       "                }\n",
       "            </style>\n",
       "            "
      ],
      "text/plain": [
       "<IPython.core.display.HTML object>"
      ]
     },
     "metadata": {},
     "output_type": "display_data"
    },
    {
     "name": "stdout",
     "output_type": "stream",
     "text": [
      "[('2003-01-01', '2004-01-01'), ('2004-01-01', '2004-12-31'), ('2004-12-31', '2005-12-31'), ('2005-12-31', '2006-12-31'), ('2006-12-31', '2007-12-31'), ('2007-12-31', '2008-12-30'), ('2008-12-30', '2009-12-30'), ('2009-12-30', '2010-12-30'), ('2010-12-30', '2011-12-30'), ('2011-12-30', '2012-12-29'), ('2012-12-29', '2013-12-29'), ('2013-12-29', '2014-12-29'), ('2014-12-29', '2015-12-29'), ('2015-12-29', '2016-12-28'), ('2016-12-28', '2017-12-28'), ('2017-12-28', '2018-12-28'), ('2018-12-28', '2019-12-28'), ('2019-12-28', '2020-12-27'), ('2020-12-27', '2021-12-27'), ('2021-12-27', '2022-12-27'), ('2022-12-27', '2023-12-27'), ('2023-12-27', '2023-12-31')]\n",
      "Currently on year 2003-01-01 2004-01-01\n"
     ]
    },
    {
     "name": "stderr",
     "output_type": "stream",
     "text": [
      "Processing days: 100%|██████████| 365/365 [00:32<00:00, 11.17it/s]\n"
     ]
    },
    {
     "name": "stdout",
     "output_type": "stream",
     "text": [
      "51  épisodes pluvieux cette année\n"
     ]
    },
    {
     "name": "stderr",
     "output_type": "stream",
     "text": [
      "Extracting data:   0%|          | 1/204 [00:01<05:55,  1.75s/it]"
     ]
    },
    {
     "name": "stdout",
     "output_type": "stream",
     "text": [
      "Generated an exception: Dictionary.get: Dictionary does not contain key: 'SoilMoist_S_tavg'.\n",
      "Generated an exception: Dictionary.get: Dictionary does not contain key: 'SoilMoist_S_tavg'.\n",
      "Generated an exception: Dictionary.get: Dictionary does not contain key: 'SoilMoist_S_tavg'.\n"
     ]
    },
    {
     "name": "stderr",
     "output_type": "stream",
     "text": [
      "Extracting data:   4%|▍         | 8/204 [00:02<00:33,  5.81it/s]"
     ]
    },
    {
     "name": "stdout",
     "output_type": "stream",
     "text": [
      "Generated an exception: Dictionary.get: Dictionary does not contain key: 'SoilMoist_S_tavg'.\n",
      "Generated an exception: Dictionary.get: Dictionary does not contain key: 'SoilMoist_S_tavg'.\n"
     ]
    },
    {
     "name": "stderr",
     "output_type": "stream",
     "text": [
      "Extracting data:   6%|▌         | 12/204 [00:02<00:23,  8.18it/s]"
     ]
    },
    {
     "name": "stdout",
     "output_type": "stream",
     "text": [
      "Generated an exception: Dictionary.get: Dictionary does not contain key: 'SoilMoist_S_tavg'.\n",
      "Generated an exception: Dictionary.get: Dictionary does not contain key: 'SoilMoist_S_tavg'.\n",
      "Generated an exception: Dictionary.get: Dictionary does not contain key: 'SoilMoist_S_tavg'.\n"
     ]
    },
    {
     "name": "stderr",
     "output_type": "stream",
     "text": [
      "Extracting data:   7%|▋         | 15/204 [00:02<00:26,  7.26it/s]"
     ]
    },
    {
     "name": "stdout",
     "output_type": "stream",
     "text": [
      "Generated an exception: Dictionary.get: Dictionary does not contain key: 'SoilMoist_S_tavg'.\n"
     ]
    },
    {
     "name": "stderr",
     "output_type": "stream",
     "text": [
      "Extracting data: 100%|██████████| 204/204 [00:31<00:00,  6.55it/s]\n"
     ]
    },
    {
     "name": "stdout",
     "output_type": "stream",
     "text": [
      "51\n",
      "Currently on year 2004-01-01 2004-12-31\n"
     ]
    },
    {
     "name": "stderr",
     "output_type": "stream",
     "text": [
      "Processing days: 100%|██████████| 365/365 [00:31<00:00, 11.53it/s]\n"
     ]
    },
    {
     "name": "stdout",
     "output_type": "stream",
     "text": [
      "42  épisodes pluvieux cette année\n"
     ]
    },
    {
     "name": "stderr",
     "output_type": "stream",
     "text": [
      "Extracting data: 100%|██████████| 168/168 [00:22<00:00,  7.47it/s]\n"
     ]
    },
    {
     "name": "stdout",
     "output_type": "stream",
     "text": [
      "93\n",
      "Currently on year 2004-12-31 2005-12-31\n"
     ]
    },
    {
     "name": "stderr",
     "output_type": "stream",
     "text": [
      "Processing days: 100%|██████████| 365/365 [00:30<00:00, 11.84it/s]\n"
     ]
    },
    {
     "name": "stdout",
     "output_type": "stream",
     "text": [
      "39  épisodes pluvieux cette année\n"
     ]
    },
    {
     "name": "stderr",
     "output_type": "stream",
     "text": [
      "Extracting data: 100%|██████████| 156/156 [00:19<00:00,  8.04it/s]\n"
     ]
    },
    {
     "name": "stdout",
     "output_type": "stream",
     "text": [
      "93\n",
      "Currently on year 2005-12-31 2006-12-31\n"
     ]
    },
    {
     "name": "stderr",
     "output_type": "stream",
     "text": [
      "Processing days: 100%|██████████| 365/365 [00:31<00:00, 11.66it/s]\n"
     ]
    },
    {
     "name": "stdout",
     "output_type": "stream",
     "text": [
      "28  épisodes pluvieux cette année\n"
     ]
    },
    {
     "name": "stderr",
     "output_type": "stream",
     "text": [
      "Extracting data: 100%|██████████| 112/112 [00:14<00:00,  7.73it/s]\n"
     ]
    },
    {
     "name": "stdout",
     "output_type": "stream",
     "text": [
      "121\n",
      "Currently on year 2006-12-31 2007-12-31\n"
     ]
    },
    {
     "name": "stderr",
     "output_type": "stream",
     "text": [
      "Processing days: 100%|██████████| 365/365 [00:30<00:00, 11.89it/s]\n"
     ]
    },
    {
     "name": "stdout",
     "output_type": "stream",
     "text": [
      "36  épisodes pluvieux cette année\n"
     ]
    },
    {
     "name": "stderr",
     "output_type": "stream",
     "text": [
      "Extracting data: 100%|██████████| 144/144 [00:21<00:00,  6.68it/s]\n"
     ]
    },
    {
     "name": "stdout",
     "output_type": "stream",
     "text": [
      "157\n",
      "Currently on year 2007-12-31 2008-12-30\n"
     ]
    },
    {
     "name": "stderr",
     "output_type": "stream",
     "text": [
      "Processing days: 100%|██████████| 365/365 [00:34<00:00, 10.62it/s]\n"
     ]
    },
    {
     "name": "stdout",
     "output_type": "stream",
     "text": [
      "42  épisodes pluvieux cette année\n"
     ]
    },
    {
     "name": "stderr",
     "output_type": "stream",
     "text": [
      "Extracting data: 100%|██████████| 168/168 [00:26<00:00,  6.30it/s]\n"
     ]
    },
    {
     "name": "stdout",
     "output_type": "stream",
     "text": [
      "199\n",
      "Currently on year 2008-12-30 2009-12-30\n"
     ]
    },
    {
     "name": "stderr",
     "output_type": "stream",
     "text": [
      "Processing days: 100%|██████████| 365/365 [00:33<00:00, 10.89it/s]\n"
     ]
    },
    {
     "name": "stdout",
     "output_type": "stream",
     "text": [
      "37  épisodes pluvieux cette année\n"
     ]
    },
    {
     "name": "stderr",
     "output_type": "stream",
     "text": [
      "Extracting data: 100%|██████████| 148/148 [00:22<00:00,  6.54it/s]\n"
     ]
    },
    {
     "name": "stdout",
     "output_type": "stream",
     "text": [
      "236\n",
      "Currently on year 2009-12-30 2010-12-30\n"
     ]
    },
    {
     "name": "stderr",
     "output_type": "stream",
     "text": [
      "Processing days: 100%|██████████| 365/365 [00:32<00:00, 11.21it/s]\n"
     ]
    },
    {
     "name": "stdout",
     "output_type": "stream",
     "text": [
      "32  épisodes pluvieux cette année\n"
     ]
    },
    {
     "name": "stderr",
     "output_type": "stream",
     "text": [
      "Extracting data: 100%|██████████| 128/128 [00:17<00:00,  7.26it/s]\n"
     ]
    },
    {
     "name": "stdout",
     "output_type": "stream",
     "text": [
      "268\n",
      "Currently on year 2010-12-30 2011-12-30\n"
     ]
    },
    {
     "name": "stderr",
     "output_type": "stream",
     "text": [
      "Processing days: 100%|██████████| 365/365 [00:32<00:00, 11.28it/s]\n"
     ]
    },
    {
     "name": "stdout",
     "output_type": "stream",
     "text": [
      "32  épisodes pluvieux cette année\n"
     ]
    },
    {
     "name": "stderr",
     "output_type": "stream",
     "text": [
      "Extracting data: 100%|██████████| 128/128 [00:16<00:00,  7.70it/s]\n"
     ]
    },
    {
     "name": "stdout",
     "output_type": "stream",
     "text": [
      "300\n",
      "Currently on year 2011-12-30 2012-12-29\n"
     ]
    },
    {
     "name": "stderr",
     "output_type": "stream",
     "text": [
      "Processing days: 100%|██████████| 365/365 [00:31<00:00, 11.63it/s]\n"
     ]
    },
    {
     "name": "stdout",
     "output_type": "stream",
     "text": [
      "43  épisodes pluvieux cette année\n"
     ]
    },
    {
     "name": "stderr",
     "output_type": "stream",
     "text": [
      "Extracting data: 100%|██████████| 172/172 [00:21<00:00,  8.16it/s]\n"
     ]
    },
    {
     "name": "stdout",
     "output_type": "stream",
     "text": [
      "343\n",
      "Currently on year 2012-12-29 2013-12-29\n"
     ]
    },
    {
     "name": "stderr",
     "output_type": "stream",
     "text": [
      "Processing days: 100%|██████████| 365/365 [02:16<00:00,  2.68it/s]\n"
     ]
    },
    {
     "name": "stdout",
     "output_type": "stream",
     "text": [
      "42  épisodes pluvieux cette année\n"
     ]
    },
    {
     "name": "stderr",
     "output_type": "stream",
     "text": [
      "Extracting data: 100%|██████████| 168/168 [00:21<00:00,  7.92it/s]\n"
     ]
    },
    {
     "name": "stdout",
     "output_type": "stream",
     "text": [
      "385\n",
      "Currently on year 2013-12-29 2014-12-29\n"
     ]
    },
    {
     "name": "stderr",
     "output_type": "stream",
     "text": [
      "Processing days: 100%|██████████| 365/365 [00:34<00:00, 10.62it/s]\n"
     ]
    },
    {
     "name": "stdout",
     "output_type": "stream",
     "text": [
      "41  épisodes pluvieux cette année\n"
     ]
    },
    {
     "name": "stderr",
     "output_type": "stream",
     "text": [
      "Extracting data: 100%|██████████| 164/164 [00:20<00:00,  8.16it/s]\n"
     ]
    },
    {
     "name": "stdout",
     "output_type": "stream",
     "text": [
      "426\n",
      "Currently on year 2014-12-29 2015-12-29\n"
     ]
    },
    {
     "name": "stderr",
     "output_type": "stream",
     "text": [
      "Processing days: 100%|██████████| 365/365 [00:30<00:00, 11.90it/s]\n"
     ]
    },
    {
     "name": "stdout",
     "output_type": "stream",
     "text": [
      "31  épisodes pluvieux cette année\n"
     ]
    },
    {
     "name": "stderr",
     "output_type": "stream",
     "text": [
      "Extracting data: 100%|██████████| 124/124 [00:17<00:00,  7.22it/s]\n"
     ]
    },
    {
     "name": "stdout",
     "output_type": "stream",
     "text": [
      "457\n",
      "Currently on year 2015-12-29 2016-12-28\n"
     ]
    },
    {
     "name": "stderr",
     "output_type": "stream",
     "text": [
      "Processing days: 100%|██████████| 365/365 [00:31<00:00, 11.56it/s]\n"
     ]
    },
    {
     "name": "stdout",
     "output_type": "stream",
     "text": [
      "44  épisodes pluvieux cette année\n"
     ]
    },
    {
     "name": "stderr",
     "output_type": "stream",
     "text": [
      "Extracting data: 100%|██████████| 176/176 [00:22<00:00,  7.68it/s]\n"
     ]
    },
    {
     "name": "stdout",
     "output_type": "stream",
     "text": [
      "501\n",
      "Currently on year 2016-12-28 2017-12-28\n"
     ]
    },
    {
     "name": "stderr",
     "output_type": "stream",
     "text": [
      "Processing days: 100%|██████████| 365/365 [00:30<00:00, 11.91it/s]\n"
     ]
    },
    {
     "name": "stdout",
     "output_type": "stream",
     "text": [
      "43  épisodes pluvieux cette année\n"
     ]
    },
    {
     "name": "stderr",
     "output_type": "stream",
     "text": [
      "Extracting data: 100%|██████████| 172/172 [00:22<00:00,  7.65it/s]\n"
     ]
    },
    {
     "name": "stdout",
     "output_type": "stream",
     "text": [
      "544\n",
      "Currently on year 2017-12-28 2018-12-28\n"
     ]
    },
    {
     "name": "stderr",
     "output_type": "stream",
     "text": [
      "Processing days: 100%|██████████| 365/365 [00:31<00:00, 11.76it/s]\n"
     ]
    },
    {
     "name": "stdout",
     "output_type": "stream",
     "text": [
      "53  épisodes pluvieux cette année\n"
     ]
    },
    {
     "name": "stderr",
     "output_type": "stream",
     "text": [
      "Extracting data: 100%|██████████| 212/212 [00:28<00:00,  7.48it/s]\n"
     ]
    },
    {
     "name": "stdout",
     "output_type": "stream",
     "text": [
      "597\n",
      "Currently on year 2018-12-28 2019-12-28\n"
     ]
    },
    {
     "name": "stderr",
     "output_type": "stream",
     "text": [
      "Processing days: 100%|██████████| 365/365 [00:44<00:00,  8.18it/s]\n"
     ]
    },
    {
     "name": "stdout",
     "output_type": "stream",
     "text": [
      "37  épisodes pluvieux cette année\n"
     ]
    },
    {
     "name": "stderr",
     "output_type": "stream",
     "text": [
      "Extracting data: 100%|██████████| 148/148 [00:50<00:00,  2.92it/s]\n"
     ]
    },
    {
     "name": "stdout",
     "output_type": "stream",
     "text": [
      "634\n",
      "Currently on year 2019-12-28 2020-12-27\n"
     ]
    },
    {
     "name": "stderr",
     "output_type": "stream",
     "text": [
      "Processing days: 100%|██████████| 365/365 [00:35<00:00, 10.35it/s]\n"
     ]
    },
    {
     "name": "stdout",
     "output_type": "stream",
     "text": [
      "36  épisodes pluvieux cette année\n"
     ]
    },
    {
     "name": "stderr",
     "output_type": "stream",
     "text": [
      "Extracting data: 100%|██████████| 144/144 [00:20<00:00,  7.04it/s]\n"
     ]
    },
    {
     "name": "stdout",
     "output_type": "stream",
     "text": [
      "670\n",
      "Currently on year 2020-12-27 2021-12-27\n"
     ]
    },
    {
     "name": "stderr",
     "output_type": "stream",
     "text": [
      "Processing days: 100%|██████████| 365/365 [00:32<00:00, 11.22it/s]\n"
     ]
    },
    {
     "name": "stdout",
     "output_type": "stream",
     "text": [
      "36  épisodes pluvieux cette année\n"
     ]
    },
    {
     "name": "stderr",
     "output_type": "stream",
     "text": [
      "Extracting data: 100%|██████████| 144/144 [00:20<00:00,  6.98it/s]\n"
     ]
    },
    {
     "name": "stdout",
     "output_type": "stream",
     "text": [
      "706\n",
      "Currently on year 2021-12-27 2022-12-27\n"
     ]
    },
    {
     "name": "stderr",
     "output_type": "stream",
     "text": [
      "Processing days: 100%|██████████| 365/365 [00:31<00:00, 11.49it/s]\n"
     ]
    },
    {
     "name": "stdout",
     "output_type": "stream",
     "text": [
      "40  épisodes pluvieux cette année\n"
     ]
    },
    {
     "name": "stderr",
     "output_type": "stream",
     "text": [
      "Extracting data: 100%|██████████| 160/160 [00:22<00:00,  7.18it/s]\n"
     ]
    },
    {
     "name": "stdout",
     "output_type": "stream",
     "text": [
      "746\n",
      "Currently on year 2022-12-27 2023-12-27\n"
     ]
    },
    {
     "name": "stderr",
     "output_type": "stream",
     "text": [
      "Processing days: 100%|██████████| 365/365 [00:31<00:00, 11.67it/s]\n"
     ]
    },
    {
     "name": "stdout",
     "output_type": "stream",
     "text": [
      "39  épisodes pluvieux cette année\n"
     ]
    },
    {
     "name": "stderr",
     "output_type": "stream",
     "text": [
      "Extracting data: 100%|██████████| 156/156 [00:16<00:00,  9.70it/s]\n"
     ]
    },
    {
     "name": "stdout",
     "output_type": "stream",
     "text": [
      "785\n",
      "Currently on year 2023-12-27 2023-12-31\n"
     ]
    },
    {
     "name": "stderr",
     "output_type": "stream",
     "text": [
      "Processing days: 100%|██████████| 4/4 [00:00<00:00, 11.94it/s]\n"
     ]
    },
    {
     "name": "stdout",
     "output_type": "stream",
     "text": [
      "0  épisodes pluvieux cette année\n"
     ]
    },
    {
     "name": "stderr",
     "output_type": "stream",
     "text": [
      "Extracting data: 0it [00:00, ?it/s]"
     ]
    },
    {
     "name": "stdout",
     "output_type": "stream",
     "text": [
      "785\n"
     ]
    },
    {
     "name": "stderr",
     "output_type": "stream",
     "text": [
      "\n"
     ]
    }
   ],
   "source": [
    "data_2003_to_2023=get_data_over_period('2003-01-01','2023-12-31', centroid)"
   ]
  },
  {
   "cell_type": "code",
   "execution_count": 27,
   "metadata": {},
   "outputs": [
    {
     "data": {
      "text/html": [
       "\n",
       "            <style>\n",
       "                .geemap-dark {\n",
       "                    --jp-widgets-color: white;\n",
       "                    --jp-widgets-label-color: white;\n",
       "                    --jp-ui-font-color1: white;\n",
       "                    --jp-layout-color2: #454545;\n",
       "                    background-color: #383838;\n",
       "                }\n",
       "\n",
       "                .geemap-dark .jupyter-button {\n",
       "                    --jp-layout-color3: #383838;\n",
       "                }\n",
       "\n",
       "                .geemap-colab {\n",
       "                    background-color: var(--colab-primary-surface-color, white);\n",
       "                }\n",
       "\n",
       "                .geemap-colab .jupyter-button {\n",
       "                    --jp-layout-color3: var(--colab-primary-surface-color, white);\n",
       "                }\n",
       "            </style>\n",
       "            "
      ],
      "text/plain": [
       "<IPython.core.display.HTML object>"
      ]
     },
     "metadata": {},
     "output_type": "display_data"
    },
    {
     "name": "stdout",
     "output_type": "stream",
     "text": [
      "Fichier CSV 'data_2003_to_2023.csv' généré avec succès.\n"
     ]
    }
   ],
   "source": [
    "export_to_csv(data_2003_to_2023,'data_2003_to_2023.csv')"
   ]
  }
 ],
 "metadata": {
  "kernelspec": {
   "display_name": "Python 3",
   "language": "python",
   "name": "python3"
  },
  "language_info": {
   "codemirror_mode": {
    "name": "ipython",
    "version": 3
   },
   "file_extension": ".py",
   "mimetype": "text/x-python",
   "name": "python",
   "nbconvert_exporter": "python",
   "pygments_lexer": "ipython3",
   "version": "3.11.9"
  }
 },
 "nbformat": 4,
 "nbformat_minor": 2
}
